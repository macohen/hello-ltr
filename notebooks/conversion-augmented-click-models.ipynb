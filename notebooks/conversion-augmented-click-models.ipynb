{
 "cells": [
  {
   "cell_type": "code",
   "execution_count": 1,
   "metadata": {},
   "outputs": [],
   "source": [
    "from ltr.clickmodels.session import build\n",
    "\n",
    "doc_costs = {\n",
    "    0: 0.4,\n",
    "    1: 0.5,\n",
    "    2: 0.5,\n",
    "    3: 0.4,\n",
    "    4: 0.7,\n",
    "    5: 0.5,\n",
    "    6: 0.5,\n",
    "    7: 0.4,\n",
    "    8: 0.7,\n",
    "    9: 0.5,\n",
    "}\n",
    "\n",
    "# Sessions for search queries \"rambo\" and \"star trek\"\n",
    "# First bool click, second click is a conversion (empty implies no conversion)\n",
    "#\n",
    "# Here 1 is the 'good guy' that always gets a conversion\n",
    "#      3 gets clicks, but never gets a conversion\n",
    "sessions = build([\n",
    "      ('rambo',     ((1, True, True), (2, False), (3, False), (0, False))),\n",
    "      ('rambo',     ((1, False), (2, True, True), (3, True), (0, False))),\n",
    "      ('rambo',     ((4, False), (2, False), (1, True, True), (0, True))),\n",
    "      ('rambo',     ((7, False), (4, False), (1, False), (3, False))),\n",
    "      ('rambo',     ((1, False), (8, False), (2, False), (3, False))),\n",
    "      ('rambo',     ((3, True), (2, False), (1, False), (0, False))),\n",
    "      ('rambo',     ((3, True), (2, False), (1, False), (0, False))),\n",
    "      ('rambo',     ((9, False), (3, True), (1, True,True), (0, True))),\n",
    "      ('rambo',     ((6, False), (4, True, True), (1, False), (3, False))),\n",
    "      ('rambo',     ((0, True,True), (2, True), (1, True,True), (4, True))),\n",
    "\n",
    "\n",
    "    ])"
   ]
  },
  {
   "cell_type": "code",
   "execution_count": 2,
   "metadata": {},
   "outputs": [
    {
     "data": {
      "text/plain": [
       "defaultdict(<function ltr.clickmodels.pbm.Model.__init__.<locals>.<lambda>()>,\n",
       "            {('rambo', 2): 0.30524892749163485,\n",
       "             ('rambo', 3): 0.9997889680727174,\n",
       "             ('rambo', 0): 0.9999838627093206,\n",
       "             ('rambo', 1): 0.5081046628637683,\n",
       "             ('rambo', 4): 0.500867466656602,\n",
       "             ('rambo', 7): 4.1166079834203487e-75,\n",
       "             ('rambo', 8): 4.200081298115326e-84,\n",
       "             ('rambo', 9): 4.1166079834203487e-75,\n",
       "             ('rambo', 6): 4.1166079834203487e-75})"
      ]
     },
     "execution_count": 2,
     "metadata": {},
     "output_type": "execute_result"
    }
   ],
   "source": [
    "from ltr.clickmodels.pbm import position_based_model\n",
    "model = position_based_model(sessions, rounds=50)\n",
    "model.attracts"
   ]
  },
  {
   "cell_type": "code",
   "execution_count": 3,
   "metadata": {},
   "outputs": [
    {
     "data": {
      "text/plain": [
       "[0.9976284686244448,\n",
       " 0.9992604598191843,\n",
       " 0.6440993392340741,\n",
       " 0.3000299014351479]"
      ]
     },
     "execution_count": 3,
     "metadata": {},
     "output_type": "execute_result"
    }
   ],
   "source": [
    "model.ranks"
   ]
  },
  {
   "cell_type": "code",
   "execution_count": 4,
   "metadata": {},
   "outputs": [
    {
     "data": {
      "text/plain": [
       "Counter({('rambo', 1): 0.35567326400463783,\n",
       "         ('rambo', 2): 0.17442795856664847,\n",
       "         ('rambo', 3): 0.39991558722908704,\n",
       "         ('rambo', 0): 0.48570644760167003,\n",
       "         ('rambo', 4): 0.3881722866588665,\n",
       "         ('rambo', 7): 1.6466431933681395e-75,\n",
       "         ('rambo', 8): 2.940056908680728e-84,\n",
       "         ('rambo', 9): 2.0583039917101744e-75,\n",
       "         ('rambo', 6): 2.0583039917101744e-75})"
      ]
     },
     "execution_count": 4,
     "metadata": {},
     "output_type": "execute_result"
    }
   ],
   "source": [
    "from ltr.clickmodels.conversion import conv_aug_attracts\n",
    "satisfacts = conv_aug_attracts(model.attracts, sessions, doc_costs)\n",
    "satisfacts"
   ]
  },
  {
   "cell_type": "code",
   "execution_count": 5,
   "metadata": {},
   "outputs": [
    {
     "data": {
      "text/plain": [
       "defaultdict(list,\n",
       "            {'rambo': [(0, 0.48570644760167003),\n",
       "              (3, 0.39991558722908704),\n",
       "              (4, 0.3881722866588665),\n",
       "              (1, 0.35567326400463783),\n",
       "              (2, 0.17442795856664847),\n",
       "              (9, 2.0583039917101744e-75),\n",
       "              (6, 2.0583039917101744e-75),\n",
       "              (7, 1.6466431933681395e-75),\n",
       "              (8, 2.940056908680728e-84)]})"
      ]
     },
     "execution_count": 5,
     "metadata": {},
     "output_type": "execute_result"
    }
   ],
   "source": [
    "def by_query(judgment_dict):\n",
    "    from collections import defaultdict\n",
    "    by_query_ranked = defaultdict(list)\n",
    "    \n",
    "    for (query, doc), score in judgment_dict.items():\n",
    "        by_query_ranked[query].append((doc,score))\n",
    "        \n",
    "    for query, items in by_query_ranked.items():\n",
    "        items.sort(key=lambda score_doc: score_doc[1], reverse=True)\n",
    "        \n",
    "    return by_query_ranked\n",
    "\n",
    "def just_doc_ids(docs):\n",
    "    return [doc[0] for doc in docs]\n",
    "\n",
    "\n",
    "s_satisfacts = by_query(satisfacts)\n",
    "s_attracts = by_query(model.attracts)\n",
    "\n",
    "s_satisfacts"
   ]
  },
  {
   "cell_type": "code",
   "execution_count": 6,
   "metadata": {},
   "outputs": [
    {
     "data": {
      "text/plain": [
       "defaultdict(list,\n",
       "            {'rambo': [(0, 0.9999838627093206),\n",
       "              (3, 0.9997889680727174),\n",
       "              (1, 0.5081046628637683),\n",
       "              (4, 0.500867466656602),\n",
       "              (2, 0.30524892749163485),\n",
       "              (7, 4.1166079834203487e-75),\n",
       "              (9, 4.1166079834203487e-75),\n",
       "              (6, 4.1166079834203487e-75),\n",
       "              (8, 4.200081298115326e-84)]})"
      ]
     },
     "execution_count": 6,
     "metadata": {},
     "output_type": "execute_result"
    }
   ],
   "source": [
    "s_attracts"
   ]
  },
  {
   "cell_type": "code",
   "execution_count": 7,
   "metadata": {},
   "outputs": [
    {
     "data": {
      "text/plain": [
       "0.6666666666666666"
      ]
     },
     "execution_count": 7,
     "metadata": {},
     "output_type": "execute_result"
    }
   ],
   "source": [
    "from ltr.helpers.tau import tau, avg_tau\n",
    "\n",
    "tau(just_doc_ids(s_satisfacts['rambo']),just_doc_ids(s_attracts['rambo']))"
   ]
  },
  {
   "cell_type": "code",
   "execution_count": null,
   "metadata": {},
   "outputs": [],
   "source": []
  }
 ],
 "metadata": {
  "kernelspec": {
   "display_name": "Python 3 (ipykernel)",
   "language": "python",
   "name": "python3"
  },
  "language_info": {
   "codemirror_mode": {
    "name": "ipython",
    "version": 3
   },
   "file_extension": ".py",
   "mimetype": "text/x-python",
   "name": "python",
   "nbconvert_exporter": "python",
   "pygments_lexer": "ipython3",
   "version": "3.10.5"
  }
 },
 "nbformat": 4,
 "nbformat_minor": 2
}
