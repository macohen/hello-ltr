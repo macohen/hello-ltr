{
 "cells": [
  {
   "cell_type": "markdown",
   "metadata": {},
   "source": [
    "# TermStatQuery\n",
    "Introduced in ES-LTR v1.5.2, the TermStatQuery provides for access to deep level statistics available in Lucene expression and Painless scripting contexts.\n",
    "\n",
    "This allows feature engineers to easily experiment with features derived directly from the index without having to write any Java code.\n",
    "\n",
    "Review the documentation [here](https://elasticsearch-learning-to-rank.readthedocs.io/en/latest/advanced-functionality.html#termstat-query) and use the notebook below to experiment with the functionality that the TermStatQuery provides."
   ]
  },
  {
   "cell_type": "markdown",
   "metadata": {},
   "source": [
    "## Setup Client"
   ]
  },
  {
   "cell_type": "code",
   "execution_count": 1,
   "metadata": {},
   "outputs": [
    {
     "name": "stdout",
     "output_type": "stream",
     "text": [
      "data/tmdb.json already exists\n",
      "data/title_judgments.txt already exists\n"
     ]
    }
   ],
   "source": [
    "from ltr.client import OpenSearchClient\n",
    "client = OpenSearchClient()\n",
    "\n",
    "from ltr import download\n",
    "corpus='http://es-learn-to-rank.labs.o19s.com/tmdb.json'\n",
    "judgments='http://es-learn-to-rank.labs.o19s.com/title_judgments.txt'\n",
    "download([corpus, judgments], dest='data/')"
   ]
  },
  {
   "cell_type": "markdown",
   "metadata": {},
   "source": [
    "## Step 1 - Create a Feature Set"
   ]
  },
  {
   "cell_type": "code",
   "execution_count": 2,
   "metadata": {},
   "outputs": [
    {
     "name": "stdout",
     "output_type": "stream",
     "text": [
      "Removed Default LTR feature store [Status: 404]\n",
      "Initialize Default LTR feature store [Status: 200]\n",
      "Create tsq feature set [Status: 201]\n"
     ]
    }
   ],
   "source": [
    "'''\n",
    "  TASK:\n",
    "  Experiment with the TermStatQuery\n",
    "  - Create a feature that utilizes a lucene expression.\n",
    "  - Create a feature that utilizes painless scripting\n",
    "'''\n",
    "\n",
    "client.reset_ltr(index='tmdb')\n",
    "\n",
    "config = {\n",
    "   \"featureset\": {\n",
    "        \"features\": [\n",
    "            {\n",
    "                \"name\": \"tsq_expr_title_tfidf\",\n",
    "                \"params\": [\"keywords\"],\n",
    "                \"template\": {\n",
    "                    \"term_stat\": {\n",
    "                        \"expr\": \"tf * idf\",             # The lucene expression evaluated for each term\n",
    "                        \"aggr\": \"max\",                  # How are the calcuated expressions for each term aggregated?\n",
    "                        \"terms\": [\"{{keywords}}\"],      # The list of terms to run the expr on\n",
    "                        \"fields\": [\"title\"]             # Which fields to lookup terms in\n",
    "                    }\n",
    "                }\n",
    "            },\n",
    "            {\n",
    "                \"name\": \"tsq_script_title_unique_terms\",\n",
    "                \"params\": [\"keywordsList\"],\n",
    "                \"template_language\": \"script_feature\",\n",
    "                \"template\": {\n",
    "                    \"lang\": \"painless\",\n",
    "                    \"source\": \"params.uniqueTerms\",\n",
    "                    \"params\": {\n",
    "                        \"term_stat\": {\n",
    "                            \"analyzer\": \"!standard\",\n",
    "                            \"terms\": \"keywordsList\",\n",
    "                            \"fields\": [\"title\"]\n",
    "                        }\n",
    "                    }\n",
    "                    \n",
    "                }\n",
    "            }\n",
    "        ]\n",
    "    }\n",
    "}\n",
    "\n",
    "client.create_featureset(index='tmdb', name='tsq', ftr_config=config)"
   ]
  },
  {
   "cell_type": "markdown",
   "metadata": {},
   "source": [
    "## Step 2 - Log Features for Training"
   ]
  },
  {
   "cell_type": "code",
   "execution_count": 3,
   "metadata": {},
   "outputs": [
    {
     "name": "stdout",
     "output_type": "stream",
     "text": [
      "Recognizing 40 queries\n"
     ]
    },
    {
     "ename": "RequestError",
     "evalue": "RequestError(400, 'search_phase_execution_exception', 'Cannot create query while parsing feature [tsq_expr_title_tfidf]')",
     "output_type": "error",
     "traceback": [
      "\u001B[0;31m---------------------------------------------------------------------------\u001B[0m",
      "\u001B[0;31mRequestError\u001B[0m                              Traceback (most recent call last)",
      "\u001B[0;32m/var/folders/33/jx0mw87156q2hmtrr_r82s7r0000gs/T/ipykernel_24147/1557073142.py\u001B[0m in \u001B[0;36m<module>\u001B[0;34m\u001B[0m\n\u001B[1;32m      6\u001B[0m \u001B[0;32mwith\u001B[0m \u001B[0mjudgments_open\u001B[0m\u001B[0;34m(\u001B[0m\u001B[0;34m'data/title_judgments.txt'\u001B[0m\u001B[0;34m)\u001B[0m \u001B[0;32mas\u001B[0m \u001B[0mjudgment_list\u001B[0m\u001B[0;34m:\u001B[0m\u001B[0;34m\u001B[0m\u001B[0;34m\u001B[0m\u001B[0m\n\u001B[1;32m      7\u001B[0m     \u001B[0;32mfor\u001B[0m \u001B[0mqid\u001B[0m\u001B[0;34m,\u001B[0m \u001B[0mquery_judgments\u001B[0m \u001B[0;32min\u001B[0m \u001B[0mgroupby\u001B[0m\u001B[0;34m(\u001B[0m\u001B[0mjudgment_list\u001B[0m\u001B[0;34m,\u001B[0m \u001B[0mkey\u001B[0m\u001B[0;34m=\u001B[0m\u001B[0;32mlambda\u001B[0m \u001B[0mj\u001B[0m\u001B[0;34m:\u001B[0m \u001B[0mj\u001B[0m\u001B[0;34m.\u001B[0m\u001B[0mqid\u001B[0m\u001B[0;34m)\u001B[0m\u001B[0;34m:\u001B[0m\u001B[0;34m\u001B[0m\u001B[0;34m\u001B[0m\u001B[0m\n\u001B[0;32m----> 8\u001B[0;31m         ftr_logger.log_for_qid(judgments=query_judgments, \n\u001B[0m\u001B[1;32m      9\u001B[0m                                \u001B[0mqid\u001B[0m\u001B[0;34m=\u001B[0m\u001B[0mqid\u001B[0m\u001B[0;34m,\u001B[0m\u001B[0;34m\u001B[0m\u001B[0;34m\u001B[0m\u001B[0m\n\u001B[1;32m     10\u001B[0m                                keywords=judgment_list.keywords(qid))\n",
      "\u001B[0;32m~/IdeaProjects/OpenSearchWork/hello-ltr/ltr/log.py\u001B[0m in \u001B[0;36mlog_for_qid\u001B[0;34m(self, qid, judgments, keywords)\u001B[0m\n\u001B[1;32m     54\u001B[0m             }\n\u001B[1;32m     55\u001B[0m \u001B[0;34m\u001B[0m\u001B[0m\n\u001B[0;32m---> 56\u001B[0;31m             \u001B[0mres\u001B[0m \u001B[0;34m=\u001B[0m \u001B[0mself\u001B[0m\u001B[0;34m.\u001B[0m\u001B[0mclient\u001B[0m\u001B[0;34m.\u001B[0m\u001B[0mlog_query\u001B[0m\u001B[0;34m(\u001B[0m\u001B[0mself\u001B[0m\u001B[0;34m.\u001B[0m\u001B[0mindex\u001B[0m\u001B[0;34m,\u001B[0m \u001B[0mself\u001B[0m\u001B[0;34m.\u001B[0m\u001B[0mfeature_set\u001B[0m\u001B[0;34m,\u001B[0m \u001B[0mids\u001B[0m\u001B[0;34m,\u001B[0m \u001B[0mparams\u001B[0m\u001B[0;34m)\u001B[0m\u001B[0;34m\u001B[0m\u001B[0;34m\u001B[0m\u001B[0m\n\u001B[0m\u001B[1;32m     57\u001B[0m \u001B[0;34m\u001B[0m\u001B[0m\n\u001B[1;32m     58\u001B[0m             \u001B[0;31m# Add feature back to each judgment\u001B[0m\u001B[0;34m\u001B[0m\u001B[0;34m\u001B[0m\u001B[0m\n",
      "\u001B[0;32m~/IdeaProjects/OpenSearchWork/hello-ltr/ltr/client/opensearch_client.py\u001B[0m in \u001B[0;36mlog_query\u001B[0;34m(self, index, featureset, ids, params)\u001B[0m\n\u001B[1;32m    142\u001B[0m             \u001B[0mparams\u001B[0m\u001B[0;34m[\u001B[0m\u001B[0;34m\"query\"\u001B[0m\u001B[0;34m]\u001B[0m\u001B[0;34m[\u001B[0m\u001B[0;34m\"bool\"\u001B[0m\u001B[0;34m]\u001B[0m\u001B[0;34m[\u001B[0m\u001B[0;34m\"must\"\u001B[0m\u001B[0;34m]\u001B[0m \u001B[0;34m=\u001B[0m \u001B[0mterms_query\u001B[0m\u001B[0;34m\u001B[0m\u001B[0;34m\u001B[0m\u001B[0m\n\u001B[1;32m    143\u001B[0m \u001B[0;34m\u001B[0m\u001B[0m\n\u001B[0;32m--> 144\u001B[0;31m         \u001B[0mresp\u001B[0m \u001B[0;34m=\u001B[0m \u001B[0mself\u001B[0m\u001B[0;34m.\u001B[0m\u001B[0mes\u001B[0m\u001B[0;34m.\u001B[0m\u001B[0msearch\u001B[0m\u001B[0;34m(\u001B[0m\u001B[0mindex\u001B[0m\u001B[0;34m=\u001B[0m\u001B[0mindex\u001B[0m\u001B[0;34m,\u001B[0m \u001B[0mbody\u001B[0m\u001B[0;34m=\u001B[0m\u001B[0mparams\u001B[0m\u001B[0;34m)\u001B[0m\u001B[0;34m\u001B[0m\u001B[0;34m\u001B[0m\u001B[0m\n\u001B[0m\u001B[1;32m    145\u001B[0m         \u001B[0;31m# resp_msg(msg=\"Searching {} - {}\".format(index, str(terms_query)[:20]), resp=SearchResp(resp))\u001B[0m\u001B[0;34m\u001B[0m\u001B[0;34m\u001B[0m\u001B[0m\n\u001B[1;32m    146\u001B[0m \u001B[0;34m\u001B[0m\u001B[0m\n",
      "\u001B[0;32m~/.local/share/virtualenvs/hello-ltr-uHqgJwl1/lib/python3.10/site-packages/opensearchpy/client/utils.py\u001B[0m in \u001B[0;36m_wrapped\u001B[0;34m(*args, **kwargs)\u001B[0m\n\u001B[1;32m    176\u001B[0m                 \u001B[0;32mif\u001B[0m \u001B[0mp\u001B[0m \u001B[0;32min\u001B[0m \u001B[0mkwargs\u001B[0m\u001B[0;34m:\u001B[0m\u001B[0;34m\u001B[0m\u001B[0;34m\u001B[0m\u001B[0m\n\u001B[1;32m    177\u001B[0m                     \u001B[0mparams\u001B[0m\u001B[0;34m[\u001B[0m\u001B[0mp\u001B[0m\u001B[0;34m]\u001B[0m \u001B[0;34m=\u001B[0m \u001B[0mkwargs\u001B[0m\u001B[0;34m.\u001B[0m\u001B[0mpop\u001B[0m\u001B[0;34m(\u001B[0m\u001B[0mp\u001B[0m\u001B[0;34m)\u001B[0m\u001B[0;34m\u001B[0m\u001B[0;34m\u001B[0m\u001B[0m\n\u001B[0;32m--> 178\u001B[0;31m             \u001B[0;32mreturn\u001B[0m \u001B[0mfunc\u001B[0m\u001B[0;34m(\u001B[0m\u001B[0;34m*\u001B[0m\u001B[0margs\u001B[0m\u001B[0;34m,\u001B[0m \u001B[0mparams\u001B[0m\u001B[0;34m=\u001B[0m\u001B[0mparams\u001B[0m\u001B[0;34m,\u001B[0m \u001B[0mheaders\u001B[0m\u001B[0;34m=\u001B[0m\u001B[0mheaders\u001B[0m\u001B[0;34m,\u001B[0m \u001B[0;34m**\u001B[0m\u001B[0mkwargs\u001B[0m\u001B[0;34m)\u001B[0m\u001B[0;34m\u001B[0m\u001B[0;34m\u001B[0m\u001B[0m\n\u001B[0m\u001B[1;32m    179\u001B[0m \u001B[0;34m\u001B[0m\u001B[0m\n\u001B[1;32m    180\u001B[0m         \u001B[0;32mreturn\u001B[0m \u001B[0m_wrapped\u001B[0m\u001B[0;34m\u001B[0m\u001B[0;34m\u001B[0m\u001B[0m\n",
      "\u001B[0;32m~/.local/share/virtualenvs/hello-ltr-uHqgJwl1/lib/python3.10/site-packages/opensearchpy/client/__init__.py\u001B[0m in \u001B[0;36msearch\u001B[0;34m(self, body, index, params, headers)\u001B[0m\n\u001B[1;32m   1549\u001B[0m             \u001B[0mparams\u001B[0m\u001B[0;34m[\u001B[0m\u001B[0;34m\"from\"\u001B[0m\u001B[0;34m]\u001B[0m \u001B[0;34m=\u001B[0m \u001B[0mparams\u001B[0m\u001B[0;34m.\u001B[0m\u001B[0mpop\u001B[0m\u001B[0;34m(\u001B[0m\u001B[0;34m\"from_\"\u001B[0m\u001B[0;34m)\u001B[0m\u001B[0;34m\u001B[0m\u001B[0;34m\u001B[0m\u001B[0m\n\u001B[1;32m   1550\u001B[0m \u001B[0;34m\u001B[0m\u001B[0m\n\u001B[0;32m-> 1551\u001B[0;31m         return self.transport.perform_request(\n\u001B[0m\u001B[1;32m   1552\u001B[0m             \u001B[0;34m\"POST\"\u001B[0m\u001B[0;34m,\u001B[0m\u001B[0;34m\u001B[0m\u001B[0;34m\u001B[0m\u001B[0m\n\u001B[1;32m   1553\u001B[0m             \u001B[0m_make_path\u001B[0m\u001B[0;34m(\u001B[0m\u001B[0mindex\u001B[0m\u001B[0;34m,\u001B[0m \u001B[0;34m\"_search\"\u001B[0m\u001B[0;34m)\u001B[0m\u001B[0;34m,\u001B[0m\u001B[0;34m\u001B[0m\u001B[0;34m\u001B[0m\u001B[0m\n",
      "\u001B[0;32m~/.local/share/virtualenvs/hello-ltr-uHqgJwl1/lib/python3.10/site-packages/opensearchpy/transport.py\u001B[0m in \u001B[0;36mperform_request\u001B[0;34m(self, method, url, headers, params, body)\u001B[0m\n\u001B[1;32m    407\u001B[0m                         \u001B[0;32mraise\u001B[0m \u001B[0me\u001B[0m\u001B[0;34m\u001B[0m\u001B[0;34m\u001B[0m\u001B[0m\n\u001B[1;32m    408\u001B[0m                 \u001B[0;32melse\u001B[0m\u001B[0;34m:\u001B[0m\u001B[0;34m\u001B[0m\u001B[0;34m\u001B[0m\u001B[0m\n\u001B[0;32m--> 409\u001B[0;31m                     \u001B[0;32mraise\u001B[0m \u001B[0me\u001B[0m\u001B[0;34m\u001B[0m\u001B[0;34m\u001B[0m\u001B[0m\n\u001B[0m\u001B[1;32m    410\u001B[0m \u001B[0;34m\u001B[0m\u001B[0m\n\u001B[1;32m    411\u001B[0m             \u001B[0;32melse\u001B[0m\u001B[0;34m:\u001B[0m\u001B[0;34m\u001B[0m\u001B[0;34m\u001B[0m\u001B[0m\n",
      "\u001B[0;32m~/.local/share/virtualenvs/hello-ltr-uHqgJwl1/lib/python3.10/site-packages/opensearchpy/transport.py\u001B[0m in \u001B[0;36mperform_request\u001B[0;34m(self, method, url, headers, params, body)\u001B[0m\n\u001B[1;32m    368\u001B[0m \u001B[0;34m\u001B[0m\u001B[0m\n\u001B[1;32m    369\u001B[0m             \u001B[0;32mtry\u001B[0m\u001B[0;34m:\u001B[0m\u001B[0;34m\u001B[0m\u001B[0;34m\u001B[0m\u001B[0m\n\u001B[0;32m--> 370\u001B[0;31m                 status, headers_response, data = connection.perform_request(\n\u001B[0m\u001B[1;32m    371\u001B[0m                     \u001B[0mmethod\u001B[0m\u001B[0;34m,\u001B[0m\u001B[0;34m\u001B[0m\u001B[0;34m\u001B[0m\u001B[0m\n\u001B[1;32m    372\u001B[0m                     \u001B[0murl\u001B[0m\u001B[0;34m,\u001B[0m\u001B[0;34m\u001B[0m\u001B[0;34m\u001B[0m\u001B[0m\n",
      "\u001B[0;32m~/.local/share/virtualenvs/hello-ltr-uHqgJwl1/lib/python3.10/site-packages/opensearchpy/connection/http_urllib3.py\u001B[0m in \u001B[0;36mperform_request\u001B[0;34m(self, method, url, params, body, timeout, ignore, headers)\u001B[0m\n\u001B[1;32m    264\u001B[0m                 \u001B[0mmethod\u001B[0m\u001B[0;34m,\u001B[0m \u001B[0mfull_url\u001B[0m\u001B[0;34m,\u001B[0m \u001B[0murl\u001B[0m\u001B[0;34m,\u001B[0m \u001B[0morig_body\u001B[0m\u001B[0;34m,\u001B[0m \u001B[0mduration\u001B[0m\u001B[0;34m,\u001B[0m \u001B[0mresponse\u001B[0m\u001B[0;34m.\u001B[0m\u001B[0mstatus\u001B[0m\u001B[0;34m,\u001B[0m \u001B[0mraw_data\u001B[0m\u001B[0;34m\u001B[0m\u001B[0;34m\u001B[0m\u001B[0m\n\u001B[1;32m    265\u001B[0m             )\n\u001B[0;32m--> 266\u001B[0;31m             self._raise_error(\n\u001B[0m\u001B[1;32m    267\u001B[0m                 \u001B[0mresponse\u001B[0m\u001B[0;34m.\u001B[0m\u001B[0mstatus\u001B[0m\u001B[0;34m,\u001B[0m\u001B[0;34m\u001B[0m\u001B[0;34m\u001B[0m\u001B[0m\n\u001B[1;32m    268\u001B[0m                 \u001B[0mraw_data\u001B[0m\u001B[0;34m,\u001B[0m\u001B[0;34m\u001B[0m\u001B[0;34m\u001B[0m\u001B[0m\n",
      "\u001B[0;32m~/.local/share/virtualenvs/hello-ltr-uHqgJwl1/lib/python3.10/site-packages/opensearchpy/connection/base.py\u001B[0m in \u001B[0;36m_raise_error\u001B[0;34m(self, status_code, raw_data, content_type)\u001B[0m\n\u001B[1;32m    299\u001B[0m             \u001B[0mlogger\u001B[0m\u001B[0;34m.\u001B[0m\u001B[0mwarning\u001B[0m\u001B[0;34m(\u001B[0m\u001B[0;34m\"Undecodable raw error response from server: %s\"\u001B[0m\u001B[0;34m,\u001B[0m \u001B[0merr\u001B[0m\u001B[0;34m)\u001B[0m\u001B[0;34m\u001B[0m\u001B[0;34m\u001B[0m\u001B[0m\n\u001B[1;32m    300\u001B[0m \u001B[0;34m\u001B[0m\u001B[0m\n\u001B[0;32m--> 301\u001B[0;31m         raise HTTP_EXCEPTIONS.get(status_code, TransportError)(\n\u001B[0m\u001B[1;32m    302\u001B[0m             \u001B[0mstatus_code\u001B[0m\u001B[0;34m,\u001B[0m \u001B[0merror_message\u001B[0m\u001B[0;34m,\u001B[0m \u001B[0madditional_info\u001B[0m\u001B[0;34m\u001B[0m\u001B[0;34m\u001B[0m\u001B[0m\n\u001B[1;32m    303\u001B[0m         )\n",
      "\u001B[0;31mRequestError\u001B[0m: RequestError(400, 'search_phase_execution_exception', 'Cannot create query while parsing feature [tsq_expr_title_tfidf]')"
     ]
    }
   ],
   "source": [
    "from ltr.log import FeatureLogger\n",
    "from ltr.judgments import judgments_open, judgments_to_dataframe\n",
    "from itertools import groupby\n",
    "\n",
    "ftr_logger=FeatureLogger(client, index='tmdb', feature_set='tsq')\n",
    "with judgments_open('data/title_judgments.txt') as judgment_list:\n",
    "    for qid, query_judgments in groupby(judgment_list, key=lambda j: j.qid):\n",
    "        ftr_logger.log_for_qid(judgments=query_judgments, \n",
    "                               qid=qid,\n",
    "                               keywords=judgment_list.keywords(qid))\n",
    "\n",
    "df = judgments_to_dataframe(ftr_logger.logged)\n",
    "df"
   ]
  },
  {
   "cell_type": "markdown",
   "metadata": {},
   "source": [
    "## Step 3 - Train a Model"
   ]
  },
  {
   "cell_type": "code",
   "execution_count": null,
   "metadata": {},
   "outputs": [],
   "source": [
    "'''\n",
    "  TASK:\n",
    "  Experiment with the leafs and trees variables, how do they affect NGCG?\n",
    "  Does a high leaf value increase your NDCG?  What could be the potential downfalls?\n",
    "'''\n",
    "from ltr.ranklib import train\n",
    "trainResponse  = train(client,\n",
    "                  index='tmdb',\n",
    "                  training_set=ftr_logger.logged,\n",
    "                  metric2t='NDCG@10',\n",
    "                  leafs=20,\n",
    "                  trees=20,\n",
    "                  featureSet='tsq',\n",
    "                  modelName='tsq')\n",
    "\n",
    "trainLog = trainResponse.trainingLogs[0]\n",
    "print()\n",
    "print(\"Impact of each feature on the model\")\n",
    "for ftrId, impact in trainLog.impacts.items():\n",
    "    print(\"{} - {}\".format(client.get_feature_name(config, ftrId), impact))\n",
    "    \n",
    "for roundDcg in trainLog.rounds:\n",
    "    print(roundDcg)\n",
    "    \n",
    "print(\"Train NDCG@10 %s\" % trainLog.rounds[-1])"
   ]
  },
  {
   "cell_type": "markdown",
   "metadata": {},
   "source": [
    "## Search"
   ]
  },
  {
   "cell_type": "code",
   "execution_count": 4,
   "metadata": {},
   "outputs": [
    {
     "name": "stdout",
     "output_type": "stream",
     "text": [
      "{'fl': '*,score', 'rows': 5, 'q': '{!ltr reRankDocs=30000 model=tsq efi.keywords=\"rambo\" efi.fuzzy_keywords=\"rambo~\"}'}\n"
     ]
    },
    {
     "ename": "RequestError",
     "evalue": "RequestError(400, 'parsing_exception', 'Unknown key for a VALUE_STRING in [fl].')",
     "output_type": "error",
     "traceback": [
      "\u001B[0;31m---------------------------------------------------------------------------\u001B[0m",
      "\u001B[0;31mRequestError\u001B[0m                              Traceback (most recent call last)",
      "\u001B[0;32m/var/folders/33/jx0mw87156q2hmtrr_r82s7r0000gs/T/ipykernel_24147/2044152557.py\u001B[0m in \u001B[0;36m<module>\u001B[0;34m\u001B[0m\n\u001B[1;32m      1\u001B[0m \u001B[0;32mfrom\u001B[0m \u001B[0mltr\u001B[0m \u001B[0;32mimport\u001B[0m \u001B[0msearch\u001B[0m\u001B[0;34m\u001B[0m\u001B[0;34m\u001B[0m\u001B[0m\n\u001B[0;32m----> 2\u001B[0;31m \u001B[0msearch\u001B[0m\u001B[0;34m(\u001B[0m\u001B[0mclient\u001B[0m\u001B[0;34m,\u001B[0m \u001B[0;34m\"rambo\"\u001B[0m\u001B[0;34m,\u001B[0m \u001B[0mmodelName\u001B[0m\u001B[0;34m=\u001B[0m\u001B[0;34m'tsq'\u001B[0m\u001B[0;34m)\u001B[0m\u001B[0;34m\u001B[0m\u001B[0;34m\u001B[0m\u001B[0m\n\u001B[0m",
      "\u001B[0;32m~/IdeaProjects/OpenSearchWork/hello-ltr/ltr/search.py\u001B[0m in \u001B[0;36msearch\u001B[0;34m(client, keywords, modelName, index, fields)\u001B[0m\n\u001B[1;32m     46\u001B[0m         \u001B[0mq\u001B[0m \u001B[0;34m=\u001B[0m \u001B[0msolrLtrQuery\u001B[0m\u001B[0;34m(\u001B[0m\u001B[0mkeywords\u001B[0m\u001B[0;34m,\u001B[0m \u001B[0mmodelName\u001B[0m\u001B[0;34m)\u001B[0m\u001B[0;34m\u001B[0m\u001B[0;34m\u001B[0m\u001B[0m\n\u001B[1;32m     47\u001B[0m         \u001B[0mprint\u001B[0m\u001B[0;34m(\u001B[0m\u001B[0mq\u001B[0m\u001B[0;34m)\u001B[0m\u001B[0;34m\u001B[0m\u001B[0;34m\u001B[0m\u001B[0m\n\u001B[0;32m---> 48\u001B[0;31m         \u001B[0mresults\u001B[0m \u001B[0;34m=\u001B[0m \u001B[0mclient\u001B[0m\u001B[0;34m.\u001B[0m\u001B[0mquery\u001B[0m\u001B[0;34m(\u001B[0m\u001B[0mindex\u001B[0m\u001B[0;34m,\u001B[0m \u001B[0mq\u001B[0m\u001B[0;34m)\u001B[0m\u001B[0;34m\u001B[0m\u001B[0;34m\u001B[0m\u001B[0m\n\u001B[0m\u001B[1;32m     49\u001B[0m \u001B[0;34m\u001B[0m\u001B[0m\n\u001B[1;32m     50\u001B[0m     \u001B[0mti\u001B[0m \u001B[0;34m=\u001B[0m \u001B[0mfields\u001B[0m\u001B[0;34m[\u001B[0m\u001B[0;34m'title'\u001B[0m\u001B[0;34m]\u001B[0m\u001B[0;34m\u001B[0m\u001B[0;34m\u001B[0m\u001B[0m\n",
      "\u001B[0;32m~/IdeaProjects/OpenSearchWork/hello-ltr/ltr/client/opensearch_client.py\u001B[0m in \u001B[0;36mquery\u001B[0;34m(self, index, query)\u001B[0m\n\u001B[1;32m    226\u001B[0m \u001B[0;34m\u001B[0m\u001B[0m\n\u001B[1;32m    227\u001B[0m     \u001B[0;32mdef\u001B[0m \u001B[0mquery\u001B[0m\u001B[0;34m(\u001B[0m\u001B[0mself\u001B[0m\u001B[0;34m,\u001B[0m \u001B[0mindex\u001B[0m\u001B[0;34m,\u001B[0m \u001B[0mquery\u001B[0m\u001B[0;34m)\u001B[0m\u001B[0;34m:\u001B[0m\u001B[0;34m\u001B[0m\u001B[0;34m\u001B[0m\u001B[0m\n\u001B[0;32m--> 228\u001B[0;31m         \u001B[0mresp\u001B[0m \u001B[0;34m=\u001B[0m \u001B[0mself\u001B[0m\u001B[0;34m.\u001B[0m\u001B[0mes\u001B[0m\u001B[0;34m.\u001B[0m\u001B[0msearch\u001B[0m\u001B[0;34m(\u001B[0m\u001B[0mindex\u001B[0m\u001B[0;34m=\u001B[0m\u001B[0mindex\u001B[0m\u001B[0;34m,\u001B[0m \u001B[0mbody\u001B[0m\u001B[0;34m=\u001B[0m\u001B[0mquery\u001B[0m\u001B[0;34m)\u001B[0m\u001B[0;34m\u001B[0m\u001B[0;34m\u001B[0m\u001B[0m\n\u001B[0m\u001B[1;32m    229\u001B[0m         \u001B[0;31m# resp_msg(msg=\"Searching {} - {}\".format(index, str(query)[:20]), resp=SearchResp(resp))\u001B[0m\u001B[0;34m\u001B[0m\u001B[0;34m\u001B[0m\u001B[0m\n\u001B[1;32m    230\u001B[0m \u001B[0;34m\u001B[0m\u001B[0m\n",
      "\u001B[0;32m~/.local/share/virtualenvs/hello-ltr-uHqgJwl1/lib/python3.10/site-packages/opensearchpy/client/utils.py\u001B[0m in \u001B[0;36m_wrapped\u001B[0;34m(*args, **kwargs)\u001B[0m\n\u001B[1;32m    176\u001B[0m                 \u001B[0;32mif\u001B[0m \u001B[0mp\u001B[0m \u001B[0;32min\u001B[0m \u001B[0mkwargs\u001B[0m\u001B[0;34m:\u001B[0m\u001B[0;34m\u001B[0m\u001B[0;34m\u001B[0m\u001B[0m\n\u001B[1;32m    177\u001B[0m                     \u001B[0mparams\u001B[0m\u001B[0;34m[\u001B[0m\u001B[0mp\u001B[0m\u001B[0;34m]\u001B[0m \u001B[0;34m=\u001B[0m \u001B[0mkwargs\u001B[0m\u001B[0;34m.\u001B[0m\u001B[0mpop\u001B[0m\u001B[0;34m(\u001B[0m\u001B[0mp\u001B[0m\u001B[0;34m)\u001B[0m\u001B[0;34m\u001B[0m\u001B[0;34m\u001B[0m\u001B[0m\n\u001B[0;32m--> 178\u001B[0;31m             \u001B[0;32mreturn\u001B[0m \u001B[0mfunc\u001B[0m\u001B[0;34m(\u001B[0m\u001B[0;34m*\u001B[0m\u001B[0margs\u001B[0m\u001B[0;34m,\u001B[0m \u001B[0mparams\u001B[0m\u001B[0;34m=\u001B[0m\u001B[0mparams\u001B[0m\u001B[0;34m,\u001B[0m \u001B[0mheaders\u001B[0m\u001B[0;34m=\u001B[0m\u001B[0mheaders\u001B[0m\u001B[0;34m,\u001B[0m \u001B[0;34m**\u001B[0m\u001B[0mkwargs\u001B[0m\u001B[0;34m)\u001B[0m\u001B[0;34m\u001B[0m\u001B[0;34m\u001B[0m\u001B[0m\n\u001B[0m\u001B[1;32m    179\u001B[0m \u001B[0;34m\u001B[0m\u001B[0m\n\u001B[1;32m    180\u001B[0m         \u001B[0;32mreturn\u001B[0m \u001B[0m_wrapped\u001B[0m\u001B[0;34m\u001B[0m\u001B[0;34m\u001B[0m\u001B[0m\n",
      "\u001B[0;32m~/.local/share/virtualenvs/hello-ltr-uHqgJwl1/lib/python3.10/site-packages/opensearchpy/client/__init__.py\u001B[0m in \u001B[0;36msearch\u001B[0;34m(self, body, index, params, headers)\u001B[0m\n\u001B[1;32m   1549\u001B[0m             \u001B[0mparams\u001B[0m\u001B[0;34m[\u001B[0m\u001B[0;34m\"from\"\u001B[0m\u001B[0;34m]\u001B[0m \u001B[0;34m=\u001B[0m \u001B[0mparams\u001B[0m\u001B[0;34m.\u001B[0m\u001B[0mpop\u001B[0m\u001B[0;34m(\u001B[0m\u001B[0;34m\"from_\"\u001B[0m\u001B[0;34m)\u001B[0m\u001B[0;34m\u001B[0m\u001B[0;34m\u001B[0m\u001B[0m\n\u001B[1;32m   1550\u001B[0m \u001B[0;34m\u001B[0m\u001B[0m\n\u001B[0;32m-> 1551\u001B[0;31m         return self.transport.perform_request(\n\u001B[0m\u001B[1;32m   1552\u001B[0m             \u001B[0;34m\"POST\"\u001B[0m\u001B[0;34m,\u001B[0m\u001B[0;34m\u001B[0m\u001B[0;34m\u001B[0m\u001B[0m\n\u001B[1;32m   1553\u001B[0m             \u001B[0m_make_path\u001B[0m\u001B[0;34m(\u001B[0m\u001B[0mindex\u001B[0m\u001B[0;34m,\u001B[0m \u001B[0;34m\"_search\"\u001B[0m\u001B[0;34m)\u001B[0m\u001B[0;34m,\u001B[0m\u001B[0;34m\u001B[0m\u001B[0;34m\u001B[0m\u001B[0m\n",
      "\u001B[0;32m~/.local/share/virtualenvs/hello-ltr-uHqgJwl1/lib/python3.10/site-packages/opensearchpy/transport.py\u001B[0m in \u001B[0;36mperform_request\u001B[0;34m(self, method, url, headers, params, body)\u001B[0m\n\u001B[1;32m    407\u001B[0m                         \u001B[0;32mraise\u001B[0m \u001B[0me\u001B[0m\u001B[0;34m\u001B[0m\u001B[0;34m\u001B[0m\u001B[0m\n\u001B[1;32m    408\u001B[0m                 \u001B[0;32melse\u001B[0m\u001B[0;34m:\u001B[0m\u001B[0;34m\u001B[0m\u001B[0;34m\u001B[0m\u001B[0m\n\u001B[0;32m--> 409\u001B[0;31m                     \u001B[0;32mraise\u001B[0m \u001B[0me\u001B[0m\u001B[0;34m\u001B[0m\u001B[0;34m\u001B[0m\u001B[0m\n\u001B[0m\u001B[1;32m    410\u001B[0m \u001B[0;34m\u001B[0m\u001B[0m\n\u001B[1;32m    411\u001B[0m             \u001B[0;32melse\u001B[0m\u001B[0;34m:\u001B[0m\u001B[0;34m\u001B[0m\u001B[0;34m\u001B[0m\u001B[0m\n",
      "\u001B[0;32m~/.local/share/virtualenvs/hello-ltr-uHqgJwl1/lib/python3.10/site-packages/opensearchpy/transport.py\u001B[0m in \u001B[0;36mperform_request\u001B[0;34m(self, method, url, headers, params, body)\u001B[0m\n\u001B[1;32m    368\u001B[0m \u001B[0;34m\u001B[0m\u001B[0m\n\u001B[1;32m    369\u001B[0m             \u001B[0;32mtry\u001B[0m\u001B[0;34m:\u001B[0m\u001B[0;34m\u001B[0m\u001B[0;34m\u001B[0m\u001B[0m\n\u001B[0;32m--> 370\u001B[0;31m                 status, headers_response, data = connection.perform_request(\n\u001B[0m\u001B[1;32m    371\u001B[0m                     \u001B[0mmethod\u001B[0m\u001B[0;34m,\u001B[0m\u001B[0;34m\u001B[0m\u001B[0;34m\u001B[0m\u001B[0m\n\u001B[1;32m    372\u001B[0m                     \u001B[0murl\u001B[0m\u001B[0;34m,\u001B[0m\u001B[0;34m\u001B[0m\u001B[0;34m\u001B[0m\u001B[0m\n",
      "\u001B[0;32m~/.local/share/virtualenvs/hello-ltr-uHqgJwl1/lib/python3.10/site-packages/opensearchpy/connection/http_urllib3.py\u001B[0m in \u001B[0;36mperform_request\u001B[0;34m(self, method, url, params, body, timeout, ignore, headers)\u001B[0m\n\u001B[1;32m    264\u001B[0m                 \u001B[0mmethod\u001B[0m\u001B[0;34m,\u001B[0m \u001B[0mfull_url\u001B[0m\u001B[0;34m,\u001B[0m \u001B[0murl\u001B[0m\u001B[0;34m,\u001B[0m \u001B[0morig_body\u001B[0m\u001B[0;34m,\u001B[0m \u001B[0mduration\u001B[0m\u001B[0;34m,\u001B[0m \u001B[0mresponse\u001B[0m\u001B[0;34m.\u001B[0m\u001B[0mstatus\u001B[0m\u001B[0;34m,\u001B[0m \u001B[0mraw_data\u001B[0m\u001B[0;34m\u001B[0m\u001B[0;34m\u001B[0m\u001B[0m\n\u001B[1;32m    265\u001B[0m             )\n\u001B[0;32m--> 266\u001B[0;31m             self._raise_error(\n\u001B[0m\u001B[1;32m    267\u001B[0m                 \u001B[0mresponse\u001B[0m\u001B[0;34m.\u001B[0m\u001B[0mstatus\u001B[0m\u001B[0;34m,\u001B[0m\u001B[0;34m\u001B[0m\u001B[0;34m\u001B[0m\u001B[0m\n\u001B[1;32m    268\u001B[0m                 \u001B[0mraw_data\u001B[0m\u001B[0;34m,\u001B[0m\u001B[0;34m\u001B[0m\u001B[0;34m\u001B[0m\u001B[0m\n",
      "\u001B[0;32m~/.local/share/virtualenvs/hello-ltr-uHqgJwl1/lib/python3.10/site-packages/opensearchpy/connection/base.py\u001B[0m in \u001B[0;36m_raise_error\u001B[0;34m(self, status_code, raw_data, content_type)\u001B[0m\n\u001B[1;32m    299\u001B[0m             \u001B[0mlogger\u001B[0m\u001B[0;34m.\u001B[0m\u001B[0mwarning\u001B[0m\u001B[0;34m(\u001B[0m\u001B[0;34m\"Undecodable raw error response from server: %s\"\u001B[0m\u001B[0;34m,\u001B[0m \u001B[0merr\u001B[0m\u001B[0;34m)\u001B[0m\u001B[0;34m\u001B[0m\u001B[0;34m\u001B[0m\u001B[0m\n\u001B[1;32m    300\u001B[0m \u001B[0;34m\u001B[0m\u001B[0m\n\u001B[0;32m--> 301\u001B[0;31m         raise HTTP_EXCEPTIONS.get(status_code, TransportError)(\n\u001B[0m\u001B[1;32m    302\u001B[0m             \u001B[0mstatus_code\u001B[0m\u001B[0;34m,\u001B[0m \u001B[0merror_message\u001B[0m\u001B[0;34m,\u001B[0m \u001B[0madditional_info\u001B[0m\u001B[0;34m\u001B[0m\u001B[0;34m\u001B[0m\u001B[0m\n\u001B[1;32m    303\u001B[0m         )\n",
      "\u001B[0;31mRequestError\u001B[0m: RequestError(400, 'parsing_exception', 'Unknown key for a VALUE_STRING in [fl].')"
     ]
    }
   ],
   "source": [
    "from ltr import search\n",
    "search(client, \"rambo\", modelName='tsq')"
   ]
  },
  {
   "cell_type": "code",
   "execution_count": null,
   "metadata": {},
   "outputs": [],
   "source": []
  }
 ],
 "metadata": {
  "kernelspec": {
   "display_name": "Python 3 (ipykernel)",
   "language": "python",
   "name": "python3"
  },
  "language_info": {
   "codemirror_mode": {
    "name": "ipython",
    "version": 3
   },
   "file_extension": ".py",
   "mimetype": "text/x-python",
   "name": "python",
   "nbconvert_exporter": "python",
   "pygments_lexer": "ipython3",
   "version": "3.7.8"
  }
 },
 "nbformat": 4,
 "nbformat_minor": 2
}
