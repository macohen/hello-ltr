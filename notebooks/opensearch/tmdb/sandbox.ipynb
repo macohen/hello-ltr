{
 "cells": [
  {
   "cell_type": "markdown",
   "metadata": {},
   "source": [
    "# Sandbox\n",
    "This notebook covers the main steps in deploying a model.  Experimentation with features is encouraged.  Can you increase the NDCG reported during model training?"
   ]
  },
  {
   "cell_type": "markdown",
   "metadata": {},
   "source": [
    "## Setup Client"
   ]
  },
  {
   "cell_type": "code",
   "execution_count": 1,
   "metadata": {},
   "outputs": [
    {
     "name": "stdout",
     "output_type": "stream",
     "text": [
      "http://localhost:9201/_ltr; <OpenSearch([{'host': 'localhost', 'port': 9201}])>\n"
     ]
    }
   ],
   "source": [
    "from ltr.client import OpenSearchClient\n",
    "client = OpenSearchClient()"
   ]
  },
  {
   "cell_type": "markdown",
   "metadata": {},
   "source": [
    "## Step 1 - Create a Feature Set"
   ]
  },
  {
   "cell_type": "code",
   "execution_count": 2,
   "metadata": {},
   "outputs": [
    {
     "name": "stdout",
     "output_type": "stream",
     "text": [
      "Removed Default LTR feature store [Status: 200]\n",
      "Initialize Default LTR feature store [Status: 200]\n",
      "Create sandbox feature set [Status: 201]\n"
     ]
    }
   ],
   "source": [
    "'''\n",
    "  TASK:\n",
    "  Experiment with this featureset, the judgments are all title searches so what features could be useful?\n",
    "  \n",
    "  Ideas:\n",
    "    - Search other fields\n",
    "    - Phrase matches\n",
    "    - Fuzzy matches\n",
    "'''\n",
    "\n",
    "client.reset_ltr(index='tmdb')\n",
    "\n",
    "config = {\n",
    "   \"featureset\": {\n",
    "        \"features\": [\n",
    "            {\n",
    "                \"name\": \"title_match\",\n",
    "                \"params\": [\"keywords\"],\n",
    "                \"template\": {\n",
    "                    \"match\": {\n",
    "                        \"title\": \"{{keywords}}\"\n",
    "                    }\n",
    "                }\n",
    "            }\n",
    "        ]\n",
    "    }\n",
    "}\n",
    "\n",
    "client.create_featureset(index='tmdb', name='sandbox', ftr_config=config)"
   ]
  },
  {
   "cell_type": "markdown",
   "metadata": {},
   "source": [
    "## Step 2 - Log Features for Training"
   ]
  },
  {
   "cell_type": "code",
   "execution_count": 3,
   "metadata": {},
   "outputs": [
    {
     "name": "stdout",
     "output_type": "stream",
     "text": [
      "Recognizing 40 queries\n"
     ]
    }
   ],
   "source": [
    "from ltr.log import FeatureLogger\n",
    "from ltr.judgments import judgments_open\n",
    "from itertools import groupby\n",
    "\n",
    "ftr_logger=FeatureLogger(client, index='tmdb', feature_set='sandbox')\n",
    "with judgments_open('data/title_judgments.txt') as judgment_list:\n",
    "    for qid, query_judgments in groupby(judgment_list, key=lambda j: j.qid):\n",
    "        ftr_logger.log_for_qid(judgments=query_judgments, \n",
    "                               qid=qid,\n",
    "                               keywords=judgment_list.keywords(qid))\n"
   ]
  },
  {
   "cell_type": "markdown",
   "metadata": {},
   "source": [
    "## Step 3 - Train a Model"
   ]
  },
  {
   "cell_type": "code",
   "execution_count": 4,
   "metadata": {},
   "outputs": [
    {
     "name": "stdout",
     "output_type": "stream",
     "text": [
      "/var/folders/33/jx0mw87156q2hmtrr_r82s7r0000gs/T/RankyMcRankFace.jar already exists\n",
      "Running java -jar /var/folders/33/jx0mw87156q2hmtrr_r82s7r0000gs/T/RankyMcRankFace.jar -ranker 6 -shrinkage 0.1 -metric2t NDCG@10 -tree 20 -bag 1 -leaf 20 -frate 1.0 -srate 1.0 -train /var/folders/33/jx0mw87156q2hmtrr_r82s7r0000gs/T/training.txt -save data/sandbox_model.txt \n",
      "Delete model sandbox: 404\n",
      "Created Model sandbox [Status: 201]\n",
      "Model saved\n",
      "\n",
      "Impact of each feature on the model\n",
      "title_match - 35493.99538433604\n",
      "0.9124\n",
      "0.9124\n",
      "0.9124\n",
      "0.9124\n",
      "0.9124\n",
      "0.9124\n",
      "0.9102\n",
      "0.9073\n",
      "0.9073\n",
      "0.9072\n",
      "0.9075\n",
      "0.9093\n",
      "0.9099\n",
      "0.9099\n",
      "0.9099\n",
      "0.9099\n",
      "0.9099\n",
      "0.9099\n",
      "0.9107\n",
      "0.9116\n",
      "Train NDCG@10 0.9116\n"
     ]
    }
   ],
   "source": [
    "'''\n",
    "  TASK:\n",
    "  Experiment with the leafs and trees variables, how do they affect NGCG?\n",
    "  Does a high leaf value increase your NDCG?  What could be the potential downfalls?\n",
    "'''\n",
    "from ltr.ranklib import train\n",
    "trainResponse  = train(client,\n",
    "                  index='tmdb',\n",
    "                  training_set=ftr_logger.logged,\n",
    "                  metric2t='NDCG@10',\n",
    "                  leafs=20,\n",
    "                  trees=20,\n",
    "                  featureSet='sandbox',\n",
    "                  modelName='sandbox')\n",
    "\n",
    "trainLog = trainResponse.trainingLogs[0]\n",
    "print()\n",
    "print(\"Impact of each feature on the model\")\n",
    "for ftrId, impact in trainLog.impacts.items():\n",
    "    print(\"{} - {}\".format(client.get_feature_name(config, ftrId), impact))\n",
    "    \n",
    "for roundDcg in trainLog.rounds:\n",
    "    print(roundDcg)\n",
    "    \n",
    "print(\"Train NDCG@10 %s\" % trainLog.rounds[-1])"
   ]
  },
  {
   "cell_type": "markdown",
   "metadata": {},
   "source": [
    "## Search"
   ]
  },
  {
   "cell_type": "code",
   "execution_count": 5,
   "metadata": {},
   "outputs": [
    {
     "name": "stdout",
     "output_type": "stream",
     "text": [
      "{\"size\": 5, \"query\": {\"sltr\": {\"params\": {\"keywords\": \"rambo\", \"keywordsList\": [\"rambo\"]}, \"model\": \"sandbox\"}}}\n",
      "{'size': 5, 'query': {'sltr': {'params': {'keywords': 'rambo', 'keywordsList': ['rambo']}, 'model': 'sandbox'}}}\n",
      "Rambo \n",
      "2.269571 \n",
      "2008 \n",
      "['Action', 'Thriller'] \n",
      "When governments fail to act on behalf of captive missionaries, ex-Green Beret John James Rambo sets aside his peaceful existence along the Salween River in a war-torn region of Thailand to take action.  Although he's still haunted by violent memories of his time as a U.S. soldier during the Vietnam War, Rambo can hardly turn his back on the aid workers who so desperately need his help. \n",
      "---------------------------------------\n",
      "Rambo III \n",
      "1.7274473 \n",
      "1988 \n",
      "['Action', 'Adventure', 'Thriller', 'War'] \n",
      "Combat has taken its toll on Rambo, but he's finally begun to find inner peace in a monastery. When Rambo's friend and mentor Col. Trautman asks for his help on a top secret mission to Afghanistan, Rambo declines but must reconsider when Trautman is captured. \n",
      "---------------------------------------\n",
      "Rambo: First Blood Part II \n",
      "-1.3226807 \n",
      "1985 \n",
      "['Action', 'Adventure', 'Drama', 'Thriller', 'War'] \n",
      "Col. Troutman recruits ex-Green Beret John Rambo for a highly secret and dangerous mission. Teamed with freedom fighter Co Bao, Rambo goes deep into Vietnam to rescue POWs. Deserted by his own team, he's left in a hostile jungle to fight for his life, avenge the death of a woman and bring corrupt officials to justice. \n",
      "---------------------------------------\n",
      "Black Mirror: White Christmas \n",
      "-2.0689206 \n",
      "2014 \n",
      "['Drama', 'Horror', 'Mystery', 'Science Fiction', 'Thriller', 'TV Movie'] \n",
      "This feature-length special consists of three interwoven stories. In a mysterious and remote snowy outpost, Matt and Potter share a Christmas meal, swapping creepy tales of their earlier lives in the outside world. Matt is a charismatic American trying to bring the reserved, secretive Potter out of his shell. But are both men who they appear to be? A woman gets thrust into a nightmarish world of 'smart' gadgetry. Plus a look at what would happen if you could 'block' people in real life. \n",
      "---------------------------------------\n",
      "The Brave-Hearted Will Take the Bride \n",
      "-2.0689206 \n",
      "1995 \n",
      "['Comedy', 'Drama', 'Romance'] \n",
      "Raj is a rich, carefree, happy-go-lucky second generation NRI. Simran is the daughter of Chaudhary Baldev Singh, who in spite of being an NRI is very strict about adherence to Indian values. Simran has left for India to be married to her childhood fiancé. Raj leaves for India with a mission at his hands, to claim his lady love under the noses of her whole family. Thus begins a saga. \n",
      "---------------------------------------\n"
     ]
    }
   ],
   "source": [
    "from ltr import search\n",
    "search(client, \"rambo\", modelName='sandbox')"
   ]
  },
  {
   "cell_type": "code",
   "execution_count": null,
   "metadata": {},
   "outputs": [],
   "source": []
  }
 ],
 "metadata": {
  "kernelspec": {
   "display_name": "Python 3 (ipykernel)",
   "language": "python",
   "name": "python3"
  },
  "language_info": {
   "codemirror_mode": {
    "name": "ipython",
    "version": 3
   },
   "file_extension": ".py",
   "mimetype": "text/x-python",
   "name": "python",
   "nbconvert_exporter": "python",
   "pygments_lexer": "ipython3",
   "version": "3.10.5"
  }
 },
 "nbformat": 4,
 "nbformat_minor": 2
}
