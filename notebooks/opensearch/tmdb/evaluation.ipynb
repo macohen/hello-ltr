{
 "cells": [
  {
   "cell_type": "markdown",
   "metadata": {},
   "source": [
    "# evaluate (OpenSearch Edition - Unsupported)\n",
    "\n",
    "**Note:** This lab requires hello-ltr be run first.  You must have the TMDB data indexed and LTR models configured before proceeding."
   ]
  },
  {
   "cell_type": "markdown",
   "metadata": {},
   "source": [
    "### RRE\n",
    "This lab makes use of the rated-ranking-evaluator [project](https://github.com/SeaseLtd/rated-ranking-evaluator) to carry out evaluations on our models from the hello-ltr lab.\n",
    "\n",
    "An RRE configuration requires the following:\n",
    "\n",
    "- configuration_sets\n",
    "  - This tells RRE about the Solr/Elastic instance to use for each evaluation\n",
    "- corpora (Not required for this setup)\n",
    "  - RRE supports indexing a snapshot of data for evaluations.  For this lab we'll be using the data indexed previously.\n",
    "- ratings\n",
    "  - This folder houses json files with queries and ratings to be evaluated\n",
    "- templates\n",
    "  - The queries to be run by each configuration set\n",
    "- pom.xml\n",
    "  - Maven project configuration, here you can configure what metrics are calculated by the evalauation and format of the report.\n",
    "  \n",
    "Take a look at the rre folder in the hello-ltr to get a better idea of the project layout and structure."
   ]
  },
  {
   "cell_type": "markdown",
   "metadata": {},
   "source": [
    "### Ratings and Evaluation\n",
    "To get started with RRE we first need some ratings.  For this example we're going to use a query for \"batman\" and we're going to say that newer films are better than older ones.  We will setup 3 different configuration sets in RRE:\n",
    "\n",
    "- baseline (No LTR applied)\n",
    "- classic (Rescore with the `classic` LTR model)\n",
    "- latest (Rescore with the `latest` LTR model)\n",
    "\n",
    "The snippet below will kick off an evaluation in RRE"
   ]
  },
  {
   "cell_type": "code",
   "execution_count": 1,
   "metadata": {},
   "outputs": [
    {
     "name": "stdout",
     "output_type": "stream",
     "text": [
      "Building RRE image - This will take a while\n"
     ]
    },
    {
     "name": "stderr",
     "output_type": "stream",
     "text": [
      "unable to prepare context: path \"rre/opensearch/.\" not found\n",
      "Error: No such container: ltr-rre\n"
     ]
    },
    {
     "name": "stdout",
     "output_type": "stream",
     "text": [
      "Running evaluation\n"
     ]
    },
    {
     "name": "stderr",
     "output_type": "stream",
     "text": [
      "Unable to find image 'ltr-rre:latest' locally\n",
      "docker: Error response from daemon: pull access denied for ltr-rre, repository does not exist or may require 'docker login': denied: requested access to the resource is denied.\n",
      "See 'docker run --help'.\n",
      "Error: No such container:path: ltr-rre:/rre/target/rre/evaluation.json\n"
     ]
    },
    {
     "name": "stdout",
     "output_type": "stream",
     "text": [
      "\n",
      "\n",
      "\n",
      "RRE Evaluation complete\n"
     ]
    },
    {
     "name": "stderr",
     "output_type": "stream",
     "text": [
      "Error: No such container:path: ltr-rre:/rre/target/site/rre-report.xlsx\n"
     ]
    }
   ],
   "source": [
    "from ltr import evaluate\n",
    "evaluate('opensearch')"
   ]
  },
  {
   "cell_type": "markdown",
   "metadata": {},
   "source": [
    "### Looking at the Results\n",
    "In this example we have rating data for every result in the Batman query and we're not adjusting matching so `Precision` and `Recall` are the expected value of 1.  However, since we've altered the sorting of results with LTR we can see a lift in `ERR` as our higher rated documents are coming up closer to the top of the results."
   ]
  },
  {
   "cell_type": "code",
   "execution_count": 2,
   "metadata": {},
   "outputs": [
    {
     "data": {
      "text/html": [
       "        <script type=\"text/javascript\">\n",
       "        window.PlotlyConfig = {MathJaxConfig: 'local'};\n",
       "        if (window.MathJax && window.MathJax.Hub && window.MathJax.Hub.Config) {window.MathJax.Hub.Config({SVG: {font: \"STIX-Web\"}});}\n",
       "        if (typeof require !== 'undefined') {\n",
       "        require.undef(\"plotly\");\n",
       "        requirejs.config({\n",
       "            paths: {\n",
       "                'plotly': ['https://cdn.plot.ly/plotly-2.18.0.min']\n",
       "            }\n",
       "        });\n",
       "        require(['plotly'], function(Plotly) {\n",
       "            window._Plotly = Plotly;\n",
       "        });\n",
       "        }\n",
       "        </script>\n",
       "        "
      ]
     },
     "metadata": {},
     "output_type": "display_data"
    },
    {
     "ename": "FileNotFoundError",
     "evalue": "[Errno 2] No such file or directory: 'data/rre-evaluation.json'",
     "output_type": "error",
     "traceback": [
      "\u001b[0;31m---------------------------------------------------------------------------\u001b[0m",
      "\u001b[0;31mFileNotFoundError\u001b[0m                         Traceback (most recent call last)",
      "Input \u001b[0;32mIn [2]\u001b[0m, in \u001b[0;36m<cell line: 2>\u001b[0;34m()\u001b[0m\n\u001b[1;32m      1\u001b[0m \u001b[38;5;28;01mfrom\u001b[39;00m \u001b[38;5;21;01mltr\u001b[39;00m \u001b[38;5;28;01mimport\u001b[39;00m rre_table\n\u001b[0;32m----> 2\u001b[0m \u001b[43mrre_table\u001b[49m\u001b[43m(\u001b[49m\u001b[43m)\u001b[49m\n",
      "File \u001b[0;32m~/IdeaProjects/OpenSearchWork/hello-ltr/ltr/evaluate.py:46\u001b[0m, in \u001b[0;36mrre_table\u001b[0;34m()\u001b[0m\n\u001b[1;32m     43\u001b[0m \u001b[38;5;28;01mdef\u001b[39;00m \u001b[38;5;21mrre_table\u001b[39m():\n\u001b[1;32m     44\u001b[0m     init_notebook_mode(connected\u001b[38;5;241m=\u001b[39m\u001b[38;5;28;01mTrue\u001b[39;00m)\n\u001b[0;32m---> 46\u001b[0m     \u001b[38;5;28;01mwith\u001b[39;00m \u001b[38;5;28;43mopen\u001b[39;49m\u001b[43m(\u001b[49m\u001b[38;5;124;43m'\u001b[39;49m\u001b[38;5;124;43mdata/rre-evaluation.json\u001b[39;49m\u001b[38;5;124;43m'\u001b[39;49m\u001b[43m)\u001b[49m \u001b[38;5;28;01mas\u001b[39;00m src:\n\u001b[1;32m     47\u001b[0m         report \u001b[38;5;241m=\u001b[39m json\u001b[38;5;241m.\u001b[39mload(src)\n\u001b[1;32m     48\u001b[0m         metrics \u001b[38;5;241m=\u001b[39m report[\u001b[38;5;124m'\u001b[39m\u001b[38;5;124mmetrics\u001b[39m\u001b[38;5;124m'\u001b[39m]\n",
      "\u001b[0;31mFileNotFoundError\u001b[0m: [Errno 2] No such file or directory: 'data/rre-evaluation.json'"
     ]
    }
   ],
   "source": [
    "from ltr import rre_table\n",
    "rre_table()"
   ]
  }
 ],
 "metadata": {
  "kernelspec": {
   "display_name": "Python 3 (ipykernel)",
   "language": "python",
   "name": "python3"
  },
  "language_info": {
   "codemirror_mode": {
    "name": "ipython",
    "version": 3
   },
   "file_extension": ".py",
   "mimetype": "text/x-python",
   "name": "python",
   "nbconvert_exporter": "python",
   "pygments_lexer": "ipython3",
   "version": "3.10.5"
  }
 },
 "nbformat": 4,
 "nbformat_minor": 2
}
