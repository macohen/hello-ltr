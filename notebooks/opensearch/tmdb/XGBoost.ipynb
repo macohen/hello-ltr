{
 "cells": [
  {
   "cell_type": "markdown",
   "metadata": {},
   "source": [
    "# XGBoost\n",
    "\n",
    "Ranklib is a relatively old library and doesn't have the wide spread use that XGBoost does. Ranklib is still under active development, but the fork of the project OSC created reflects an older version.\n",
    "\n",
    "The ES-LTR plugin is designed to work with XGBoost model format. This notebook starts with the `classic` training data generated in `hello-ltr.py` and shows how you could use XGBoost instead of Ranklib to create a model and use it with the plugin."
   ]
  },
  {
   "cell_type": "markdown",
   "metadata": {},
   "source": [
    "### Input Data\n",
    "\n",
    "Gather the data generated for our `classic` model in `hello-ltr.ipynb`. If this file doesn't exist yet, rerun that notebook!"
   ]
  },
  {
   "cell_type": "code",
   "execution_count": 1,
   "metadata": {},
   "outputs": [
    {
     "name": "stdout",
     "output_type": "stream",
     "text": [
      "Recognizing 1 queries\n"
     ]
    },
    {
     "name": "stderr",
     "output_type": "stream",
     "text": [
      "/Users/markcoh/IdeaProjects/OpenSearchWork/hello-ltr/ltr/judgments.py:266: FutureWarning:\n",
      "\n",
      "In a future version of pandas all arguments of DataFrame.drop except for the argument 'labels' will be keyword-only\n",
      "\n"
     ]
    },
    {
     "data": {
      "text/plain": "     features0       uid  qid keywords   docId  grade\n0       2014.0  1_374430    1           374430      0\n1       1995.0   1_19404    1            19404      1\n2       1994.0     1_278    1              278      1\n3       2016.0  1_372058    1           372058      0\n4       1972.0     1_238    1              238      2\n..         ...       ...  ...      ...     ...    ...\n995     1960.0     1_967    1              967      3\n996     2007.0   1_13008    1            13008      1\n997     1999.0    1_4951    1             4951      1\n998     2015.0  1_228205    1           228205      0\n999     1982.0    1_5961    1             5961      2\n\n[1000 rows x 6 columns]",
      "text/html": "<div>\n<style scoped>\n    .dataframe tbody tr th:only-of-type {\n        vertical-align: middle;\n    }\n\n    .dataframe tbody tr th {\n        vertical-align: top;\n    }\n\n    .dataframe thead th {\n        text-align: right;\n    }\n</style>\n<table border=\"1\" class=\"dataframe\">\n  <thead>\n    <tr style=\"text-align: right;\">\n      <th></th>\n      <th>features0</th>\n      <th>uid</th>\n      <th>qid</th>\n      <th>keywords</th>\n      <th>docId</th>\n      <th>grade</th>\n    </tr>\n  </thead>\n  <tbody>\n    <tr>\n      <th>0</th>\n      <td>2014.0</td>\n      <td>1_374430</td>\n      <td>1</td>\n      <td></td>\n      <td>374430</td>\n      <td>0</td>\n    </tr>\n    <tr>\n      <th>1</th>\n      <td>1995.0</td>\n      <td>1_19404</td>\n      <td>1</td>\n      <td></td>\n      <td>19404</td>\n      <td>1</td>\n    </tr>\n    <tr>\n      <th>2</th>\n      <td>1994.0</td>\n      <td>1_278</td>\n      <td>1</td>\n      <td></td>\n      <td>278</td>\n      <td>1</td>\n    </tr>\n    <tr>\n      <th>3</th>\n      <td>2016.0</td>\n      <td>1_372058</td>\n      <td>1</td>\n      <td></td>\n      <td>372058</td>\n      <td>0</td>\n    </tr>\n    <tr>\n      <th>4</th>\n      <td>1972.0</td>\n      <td>1_238</td>\n      <td>1</td>\n      <td></td>\n      <td>238</td>\n      <td>2</td>\n    </tr>\n    <tr>\n      <th>...</th>\n      <td>...</td>\n      <td>...</td>\n      <td>...</td>\n      <td>...</td>\n      <td>...</td>\n      <td>...</td>\n    </tr>\n    <tr>\n      <th>995</th>\n      <td>1960.0</td>\n      <td>1_967</td>\n      <td>1</td>\n      <td></td>\n      <td>967</td>\n      <td>3</td>\n    </tr>\n    <tr>\n      <th>996</th>\n      <td>2007.0</td>\n      <td>1_13008</td>\n      <td>1</td>\n      <td></td>\n      <td>13008</td>\n      <td>1</td>\n    </tr>\n    <tr>\n      <th>997</th>\n      <td>1999.0</td>\n      <td>1_4951</td>\n      <td>1</td>\n      <td></td>\n      <td>4951</td>\n      <td>1</td>\n    </tr>\n    <tr>\n      <th>998</th>\n      <td>2015.0</td>\n      <td>1_228205</td>\n      <td>1</td>\n      <td></td>\n      <td>228205</td>\n      <td>0</td>\n    </tr>\n    <tr>\n      <th>999</th>\n      <td>1982.0</td>\n      <td>1_5961</td>\n      <td>1</td>\n      <td></td>\n      <td>5961</td>\n      <td>2</td>\n    </tr>\n  </tbody>\n</table>\n<p>1000 rows × 6 columns</p>\n</div>"
     },
     "execution_count": 1,
     "metadata": {},
     "output_type": "execute_result"
    }
   ],
   "source": [
    "import ltr.judgments as judge\n",
    "df = [j for j in judge.judgments_from_file(open('data/classic-training.txt'))]\n",
    "df = judge.judgments_to_dataframe(df)\n",
    "df"
   ]
  },
  {
   "cell_type": "markdown",
   "metadata": {},
   "source": [
    "### Libraries for xgboost-ing\n",
    "\n",
    "Just the dependencies we need to train and visualize out model trained with XG-Boost instead of Ranklib."
   ]
  },
  {
   "cell_type": "code",
   "execution_count": 2,
   "metadata": {},
   "outputs": [],
   "source": [
    "import pandas as pd\n",
    "import xgboost as xgb\n",
    "from matplotlib.pylab import rcParams\n",
    "rcParams['figure.figsize'] = 50,150"
   ]
  },
  {
   "cell_type": "markdown",
   "metadata": {},
   "source": [
    "### Set up our training Matrix\n",
    "\n",
    "XGBoost has it's data specficiations so we need to get out features into that format to use it.\n"
   ]
  },
  {
   "cell_type": "code",
   "execution_count": 3,
   "metadata": {},
   "outputs": [],
   "source": [
    "df = df[['grade', 'features0']]\n",
    "features = df[['features0']]\n",
    "labels = df[['grade']]\n",
    "\n",
    "dmx = xgb.DMatrix(features, labels)"
   ]
  },
  {
   "cell_type": "markdown",
   "metadata": {},
   "source": [
    "### Train the first XGBoost model\n",
    "\n",
    "Using the demo parameters for our model, we will train a standard regression tree"
   ]
  },
  {
   "cell_type": "code",
   "execution_count": 4,
   "metadata": {},
   "outputs": [
    {
     "name": "stdout",
     "output_type": "stream",
     "text": [
      "[22:52:03] WARNING: /Users/runner/work/xgboost/xgboost/src/learner.cc:576: \n",
      "Parameters: { \"silent\" } might not be used.\n",
      "\n",
      "  This could be a false alarm, with some parameters getting used by language bindings but\n",
      "  then being mistakenly passed down to XGBoost core, or some parameter actually being used\n",
      "  but getting flagged wrongly here. Please open an issue if you find any such cases.\n",
      "\n",
      "\n"
     ]
    }
   ],
   "source": [
    "param = {'max_depth':2, 'eta':1, 'silent':1}\n",
    "num_round = 2\n",
    "\n",
    "model = xgb.train(param, dmx, num_round)"
   ]
  },
  {
   "cell_type": "markdown",
   "metadata": {},
   "source": [
    "### Inspect as dataframe\n",
    "\n",
    "Looking at the model as a dataframe can tell you which splits helped the most"
   ]
  },
  {
   "cell_type": "code",
   "execution_count": 5,
   "metadata": {},
   "outputs": [
    {
     "data": {
      "text/plain": "    Tree  Node   ID    Feature   Split  Yes   No Missing         Gain   Cover  \\\n0      0     0  0-0  features0  1990.5  0-1  0-2     0-1  1087.860720  1000.0   \n1      0     1  0-1  features0  1970.5  0-3  0-4     0-3   178.059326   414.0   \n2      0     2  0-2  features0  2010.5  0-5  0-6     0-5   136.161972   586.0   \n3      0     3  0-3       Leaf     NaN  NaN  NaN     NaN     2.828326   232.0   \n4      0     4  0-4       Leaf     NaN  NaN  NaN     NaN     1.491803   182.0   \n5      0     5  0-5       Leaf     NaN  NaN  NaN     NaN     0.498649   369.0   \n6      0     6  0-6       Leaf     NaN  NaN  NaN     NaN    -0.497706   217.0   \n7      1     0  1-0  features0  1950.5  1-1  1-2     1-1    37.753029  1000.0   \n8      1     1  1-1       Leaf     NaN  NaN  NaN     NaN     0.663278    79.0   \n9      1     2  1-2  features0  1970.5  1-3  1-4     1-3    13.812227   921.0   \n10     1     3  1-3       Leaf     NaN  NaN  NaN     NaN    -0.326194   153.0   \n11     1     4  1-4       Leaf     NaN  NaN  NaN     NaN     0.001941   768.0   \n\n    Category  \n0        NaN  \n1        NaN  \n2        NaN  \n3        NaN  \n4        NaN  \n5        NaN  \n6        NaN  \n7        NaN  \n8        NaN  \n9        NaN  \n10       NaN  \n11       NaN  ",
      "text/html": "<div>\n<style scoped>\n    .dataframe tbody tr th:only-of-type {\n        vertical-align: middle;\n    }\n\n    .dataframe tbody tr th {\n        vertical-align: top;\n    }\n\n    .dataframe thead th {\n        text-align: right;\n    }\n</style>\n<table border=\"1\" class=\"dataframe\">\n  <thead>\n    <tr style=\"text-align: right;\">\n      <th></th>\n      <th>Tree</th>\n      <th>Node</th>\n      <th>ID</th>\n      <th>Feature</th>\n      <th>Split</th>\n      <th>Yes</th>\n      <th>No</th>\n      <th>Missing</th>\n      <th>Gain</th>\n      <th>Cover</th>\n      <th>Category</th>\n    </tr>\n  </thead>\n  <tbody>\n    <tr>\n      <th>0</th>\n      <td>0</td>\n      <td>0</td>\n      <td>0-0</td>\n      <td>features0</td>\n      <td>1990.5</td>\n      <td>0-1</td>\n      <td>0-2</td>\n      <td>0-1</td>\n      <td>1087.860720</td>\n      <td>1000.0</td>\n      <td>NaN</td>\n    </tr>\n    <tr>\n      <th>1</th>\n      <td>0</td>\n      <td>1</td>\n      <td>0-1</td>\n      <td>features0</td>\n      <td>1970.5</td>\n      <td>0-3</td>\n      <td>0-4</td>\n      <td>0-3</td>\n      <td>178.059326</td>\n      <td>414.0</td>\n      <td>NaN</td>\n    </tr>\n    <tr>\n      <th>2</th>\n      <td>0</td>\n      <td>2</td>\n      <td>0-2</td>\n      <td>features0</td>\n      <td>2010.5</td>\n      <td>0-5</td>\n      <td>0-6</td>\n      <td>0-5</td>\n      <td>136.161972</td>\n      <td>586.0</td>\n      <td>NaN</td>\n    </tr>\n    <tr>\n      <th>3</th>\n      <td>0</td>\n      <td>3</td>\n      <td>0-3</td>\n      <td>Leaf</td>\n      <td>NaN</td>\n      <td>NaN</td>\n      <td>NaN</td>\n      <td>NaN</td>\n      <td>2.828326</td>\n      <td>232.0</td>\n      <td>NaN</td>\n    </tr>\n    <tr>\n      <th>4</th>\n      <td>0</td>\n      <td>4</td>\n      <td>0-4</td>\n      <td>Leaf</td>\n      <td>NaN</td>\n      <td>NaN</td>\n      <td>NaN</td>\n      <td>NaN</td>\n      <td>1.491803</td>\n      <td>182.0</td>\n      <td>NaN</td>\n    </tr>\n    <tr>\n      <th>5</th>\n      <td>0</td>\n      <td>5</td>\n      <td>0-5</td>\n      <td>Leaf</td>\n      <td>NaN</td>\n      <td>NaN</td>\n      <td>NaN</td>\n      <td>NaN</td>\n      <td>0.498649</td>\n      <td>369.0</td>\n      <td>NaN</td>\n    </tr>\n    <tr>\n      <th>6</th>\n      <td>0</td>\n      <td>6</td>\n      <td>0-6</td>\n      <td>Leaf</td>\n      <td>NaN</td>\n      <td>NaN</td>\n      <td>NaN</td>\n      <td>NaN</td>\n      <td>-0.497706</td>\n      <td>217.0</td>\n      <td>NaN</td>\n    </tr>\n    <tr>\n      <th>7</th>\n      <td>1</td>\n      <td>0</td>\n      <td>1-0</td>\n      <td>features0</td>\n      <td>1950.5</td>\n      <td>1-1</td>\n      <td>1-2</td>\n      <td>1-1</td>\n      <td>37.753029</td>\n      <td>1000.0</td>\n      <td>NaN</td>\n    </tr>\n    <tr>\n      <th>8</th>\n      <td>1</td>\n      <td>1</td>\n      <td>1-1</td>\n      <td>Leaf</td>\n      <td>NaN</td>\n      <td>NaN</td>\n      <td>NaN</td>\n      <td>NaN</td>\n      <td>0.663278</td>\n      <td>79.0</td>\n      <td>NaN</td>\n    </tr>\n    <tr>\n      <th>9</th>\n      <td>1</td>\n      <td>2</td>\n      <td>1-2</td>\n      <td>features0</td>\n      <td>1970.5</td>\n      <td>1-3</td>\n      <td>1-4</td>\n      <td>1-3</td>\n      <td>13.812227</td>\n      <td>921.0</td>\n      <td>NaN</td>\n    </tr>\n    <tr>\n      <th>10</th>\n      <td>1</td>\n      <td>3</td>\n      <td>1-3</td>\n      <td>Leaf</td>\n      <td>NaN</td>\n      <td>NaN</td>\n      <td>NaN</td>\n      <td>NaN</td>\n      <td>-0.326194</td>\n      <td>153.0</td>\n      <td>NaN</td>\n    </tr>\n    <tr>\n      <th>11</th>\n      <td>1</td>\n      <td>4</td>\n      <td>1-4</td>\n      <td>Leaf</td>\n      <td>NaN</td>\n      <td>NaN</td>\n      <td>NaN</td>\n      <td>NaN</td>\n      <td>0.001941</td>\n      <td>768.0</td>\n      <td>NaN</td>\n    </tr>\n  </tbody>\n</table>\n</div>"
     },
     "execution_count": 5,
     "metadata": {},
     "output_type": "execute_result"
    }
   ],
   "source": [
    "model.trees_to_dataframe()"
   ]
  },
  {
   "cell_type": "code",
   "execution_count": null,
   "metadata": {},
   "outputs": [],
   "source": [
    "xgb.plot_tree(model)"
   ]
  },
  {
   "cell_type": "markdown",
   "metadata": {},
   "source": [
    "### Adjust the objective for LTR\n",
    "\n",
    "Really we don't want the regression as our objective function. In LTR we take advantage of a new pairwise loss function to find the optimal splits for a regression tree. \n",
    "\n",
    "This doesn't make a massive difference for the model that is generated because it is still a regression tree at the end of the day, but we are not longer using residual sqared error."
   ]
  },
  {
   "cell_type": "code",
   "execution_count": null,
   "metadata": {},
   "outputs": [],
   "source": [
    "param2 = {'max_depth':2, 'eta':1, 'silent':1, 'objective':'rank:pairwise'}\n",
    "\n",
    "ranking_model = xgb.train(param2, dmx, num_round)"
   ]
  },
  {
   "cell_type": "code",
   "execution_count": null,
   "metadata": {},
   "outputs": [],
   "source": [
    "ranking_model.trees_to_dataframe()"
   ]
  },
  {
   "cell_type": "code",
   "execution_count": null,
   "metadata": {},
   "outputs": [],
   "source": [
    "xgb.plot_tree(ranking_model)"
   ]
  },
  {
   "cell_type": "markdown",
   "metadata": {},
   "source": [
    "### Uploading an XGBoost model to the plugin\n",
    "\n",
    "Since the model can be represented with JSON, the plugin can parse it. But we need to make sure the plugin gets the proper feature value names in order for it to parse properly.\n",
    "\n",
    "These are supplied via a mapping `txt` file, `fmap.txt`.\n",
    "\n",
    "The first step is to dump the model with the feature mapping to the features already stored in the plugin."
   ]
  },
  {
   "cell_type": "code",
   "execution_count": null,
   "metadata": {},
   "outputs": [],
   "source": [
    "model_dump = ranking_model.get_dump(fmap='fmap.txt', dump_format='json')"
   ]
  },
  {
   "cell_type": "markdown",
   "metadata": {},
   "source": [
    "### Massage the JSON\n",
    "\n",
    "Manipulate the XGBoost output format to clean it up for posting to the plugin."
   ]
  },
  {
   "cell_type": "code",
   "execution_count": null,
   "metadata": {},
   "outputs": [],
   "source": [
    "import json\n",
    "clean_model = []\n",
    "for line in model_dump:\n",
    "    clean_model.append(json.loads(line))"
   ]
  },
  {
   "cell_type": "markdown",
   "metadata": {},
   "source": [
    "### Post it to the plugin\n",
    "\n",
    "Still referencing the index and feature set the model will be associated with."
   ]
  },
  {
   "cell_type": "code",
   "execution_count": null,
   "metadata": {},
   "outputs": [],
   "source": [
    "import ltr.client as client\n",
    "client = client.ElasticClient()\n",
    "\n",
    "client.submit_xgboost_model('release', 'tmdb', 'xgb', clean_model)"
   ]
  },
  {
   "cell_type": "markdown",
   "metadata": {},
   "source": [
    "### Confirm it works"
   ]
  },
  {
   "cell_type": "code",
   "execution_count": null,
   "metadata": {},
   "outputs": [],
   "source": [
    "from ltr.release_date_plot import search\n",
    "search(client, 'batman', 'xgb')"
   ]
  },
  {
   "cell_type": "markdown",
   "metadata": {},
   "source": [
    "### Compare it to the classic Ranklib model"
   ]
  },
  {
   "cell_type": "code",
   "execution_count": null,
   "metadata": {},
   "outputs": [],
   "source": [
    "from ltr.release_date_plot import plot\n",
    "plot(client, \"batman\", models = ['classic', 'xgb'])"
   ]
  }
 ],
 "metadata": {
  "kernelspec": {
   "display_name": "Python 3",
   "language": "python",
   "name": "python3"
  },
  "language_info": {
   "codemirror_mode": {
    "name": "ipython",
    "version": 3
   },
   "file_extension": ".py",
   "mimetype": "text/x-python",
   "name": "python",
   "nbconvert_exporter": "python",
   "pygments_lexer": "ipython3",
   "version": "3.8.2"
  }
 },
 "nbformat": 4,
 "nbformat_minor": 2
}
