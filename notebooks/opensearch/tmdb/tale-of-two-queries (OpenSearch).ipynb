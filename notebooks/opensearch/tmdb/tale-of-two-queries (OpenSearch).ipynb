{
 "cells": [
  {
   "cell_type": "markdown",
   "metadata": {},
   "source": [
    "# Basics & Prereqs (run once)\n",
    "\n",
    "If you don't already have the downloaded dependencies; if you don't have TheMovieDB data indexed run this"
   ]
  },
  {
   "cell_type": "code",
   "execution_count": 1,
   "metadata": {},
   "outputs": [
    {
     "name": "stdout",
     "output_type": "stream",
     "text": [
      "http://localhost:9201/_ltr; <OpenSearch([{'host': 'localhost', 'port': 9201}])>\n",
      "data/tmdb.json already exists\n",
      "Index tmdb already exists. Use `force = True` to delete and recreate\n"
     ]
    }
   ],
   "source": [
    "from ltr.client.opensearch_client import OpenSearchClient\n",
    "client = OpenSearchClient()\n",
    "\n",
    "from ltr import download, index\n",
    "from ltr.index import rebuild\n",
    "from ltr.helpers.movies import indexable_movies\n",
    "from ltr import download\n",
    "\n",
    "corpus='http://es-learn-to-rank.labs.o19s.com/tmdb.json'\n",
    "download([corpus], dest='data/');\n",
    "\n",
    "movies=indexable_movies(movies='data/tmdb.json')\n",
    "rebuild(client, index='tmdb', doc_src=movies)"
   ]
  },
  {
   "cell_type": "markdown",
   "metadata": {},
   "source": [
    "## Create Elastic Client"
   ]
  },
  {
   "cell_type": "code",
   "execution_count": 2,
   "metadata": {},
   "outputs": [
    {
     "name": "stdout",
     "output_type": "stream",
     "text": [
      "http://localhost:9201/_ltr; <OpenSearch([{'host': 'localhost', 'port': 9201}])>\n"
     ]
    }
   ],
   "source": [
    "from ltr.client.opensearch_client import OpenSearchClient\n",
    "client = OpenSearchClient()"
   ]
  },
  {
   "cell_type": "markdown",
   "metadata": {},
   "source": [
    "# Our Task: Optimizing \"Drama\" and \"Science Fiction\" queries\n",
    "\n",
    "In this example we have two user queries\n",
    "\n",
    "- Drama\n",
    "- Science Fiction\n",
    "\n",
    "And we want to train a model to return the best movies for these movies when a user types them into our search bar.\n",
    "\n",
    "We learn through analysis that searchers prefer newer science fiction, but older drama. Like a lot of search relevance problems, two queries need to be optimized in *different* directions"
   ]
  },
  {
   "cell_type": "markdown",
   "metadata": {},
   "source": [
    "### Synthetic Judgment List Generation\n",
    "\n",
    "To setup this example, we'll generate a judgment list that rewards new science fiction movies as more relevant; and old drama movies as relevant."
   ]
  },
  {
   "cell_type": "code",
   "execution_count": 3,
   "metadata": {},
   "outputs": [
    {
     "name": "stdout",
     "output_type": "stream",
     "text": [
      "Generating judgments for scifi & drama movies\n",
      "{'query': {'match_all': {}}, 'size': 10000, 'sort': [{'_id': 'asc'}]}\n"
     ]
    },
    {
     "name": "stderr",
     "output_type": "stream",
     "text": [
      "100%|█████████████████████████████████████████████████████████████████████████████████████████████████████████████████████████████████████████| 10000/10000 [00:00<00:00, 458233.62it/s]\n"
     ]
    }
   ],
   "source": [
    "from ltr.date_genre_judgments import synthesize\n",
    "judgments = synthesize(client, judgmentsOutFile='data/genre_by_date_judgments.txt')"
   ]
  },
  {
   "cell_type": "markdown",
   "metadata": {},
   "source": [
    "### Feature selection should be *easy!*\n",
    "\n",
    "Notice we have 4 proposed features, that seem like they should work! This should be a piece of cake...\n",
    "\n",
    "1. Release Year of a movie `release_year` - feature ID 1\n",
    "2. Is the movie Science Fiction `is_scifi` - feature ID 2\n",
    "3. Is the movie Drama `is_drama` - feature ID 3\n",
    "4. Does the search term match the genre field `is_genre_match` - feature ID 4\n"
   ]
  },
  {
   "cell_type": "code",
   "execution_count": 4,
   "metadata": {},
   "outputs": [
    {
     "name": "stdout",
     "output_type": "stream",
     "text": [
      "Removed Default LTR feature store [Status: 200]\n",
      "Initialize Default LTR feature store [Status: 200]\n",
      "Create genre feature set [Status: 201]\n"
     ]
    }
   ],
   "source": [
    "client.reset_ltr(index='tmdb')\n",
    "\n",
    "config = {\n",
    "    \"featureset\": {\n",
    "            \"features\": [\n",
    "            {\n",
    "                \"name\": \"release_year\",\n",
    "                \"params\": [],\n",
    "                \"template\": {\n",
    "                    \"function_score\": {\n",
    "                        \"field_value_factor\": {\n",
    "                        \"field\": \"release_year\",\n",
    "                        \"missing\": 2000\n",
    "                    },\n",
    "                    \"query\": { \"match_all\": {} }\n",
    "                }\n",
    "            }\n",
    "            },\n",
    "             {\n",
    "                \"name\": \"is_sci_fi\",\n",
    "                \"params\": [],\n",
    "                \"template\": {\n",
    "                    \"constant_score\": {\n",
    "                        \"filter\": {\n",
    "                            \"match_phrase\": {\"genres\": \"Science Fiction\"}\n",
    "                        },\n",
    "                        \"boost\": 1.0                    }\n",
    "            }\n",
    "            },\n",
    "             {\n",
    "                \"name\": \"is_drama\",\n",
    "                \"params\": [],\n",
    "                \"template\": {\n",
    "                    \"constant_score\": {\n",
    "                        \"filter\": {\n",
    "                            \"match_phrase\": {\"genres\": \"Drama\"}\n",
    "                        },\n",
    "                        \"boost\": 1.0                    }\n",
    "                }\n",
    "            },\n",
    "             {\n",
    "                \"name\": \"is_genre_match\",\n",
    "                \"params\": [\"keywords\"],\n",
    "                \"template\": {\n",
    "                    \"constant_score\": {\n",
    "                        \"filter\": {\n",
    "                            \"match_phrase\": {\"genres\": \"{{keywords}}\"}\n",
    "                        },\n",
    "                        \"boost\": 1.0\n",
    "                    }\n",
    "                }\n",
    "            }\n",
    "    ]\n",
    "    },\n",
    "    \"validation\": {\n",
    "       \"params\": {\n",
    "           \"keywords\": \"Science Fiction\"\n",
    "       },\n",
    "       \"index\": \"tmdb\"\n",
    "    }\n",
    "}\n",
    "\n",
    "client.create_featureset(index='tmdb', name='genre', ftr_config=config)"
   ]
  },
  {
   "cell_type": "markdown",
   "metadata": {},
   "source": [
    "### Log from search engine -> to training set\n",
    "\n",
    "Each feature is a query to be scored against the judgment list"
   ]
  },
  {
   "cell_type": "code",
   "execution_count": 5,
   "metadata": {},
   "outputs": [
    {
     "name": "stdout",
     "output_type": "stream",
     "text": [
      "Recognizing 2 queries\n"
     ]
    }
   ],
   "source": [
    "from ltr.judgments import judgments_open\n",
    "from ltr.log import FeatureLogger\n",
    "from itertools import groupby\n",
    "\n",
    "from ltr.log import FeatureLogger\n",
    "from ltr.judgments import judgments_open\n",
    "from itertools import groupby\n",
    "\n",
    "ftr_logger=FeatureLogger(client, index='tmdb', feature_set='genre')\n",
    "with judgments_open('data/genre_by_date_judgments.txt') as judgment_list:\n",
    "    for qid, query_judgments in groupby(judgment_list, key=lambda j: j.qid):\n",
    "        ftr_logger.log_for_qid(judgments=query_judgments, \n",
    "                               qid=qid,\n",
    "                               keywords=judgment_list.keywords(qid))\n"
   ]
  },
  {
   "cell_type": "markdown",
   "metadata": {},
   "source": [
    "### Training - Guaranteed Perfect Search Results!\n",
    "\n",
    "We'll train a LambdaMART model against this training data."
   ]
  },
  {
   "cell_type": "code",
   "execution_count": 6,
   "metadata": {},
   "outputs": [
    {
     "name": "stdout",
     "output_type": "stream",
     "text": [
      "/var/folders/33/jx0mw87156q2hmtrr_r82s7r0000gs/T/RankyMcRankFace.jar already exists\n",
      "Running java -jar /var/folders/33/jx0mw87156q2hmtrr_r82s7r0000gs/T/RankyMcRankFace.jar -ranker 6 -shrinkage 0.1 -metric2t NDCG@10 -tree 50 -bag 1 -leaf 10 -frate 1.0 -srate 1.0 -train /var/folders/33/jx0mw87156q2hmtrr_r82s7r0000gs/T/training.txt -save data/genre_model.txt \n",
      "Delete model genre: 404\n",
      "Created Model genre [Status: 201]\n",
      "Model saved\n",
      "\n",
      "Impact of each feature on the model\n",
      "release_year - 84672139.80027786\n",
      "is_sci_fi - 57048.53836173947\n",
      "is_drama - 15085.984020625705\n",
      "is_genre_match - 0.0\n",
      "Perfect NDCG! 1.0\n"
     ]
    }
   ],
   "source": [
    "from ltr.ranklib import train\n",
    "trainResponse = train(client,\n",
    "                 training_set=ftr_logger.logged,\n",
    "                 metric2t='NDCG@10',\n",
    "                 index='tmdb',\n",
    "                 featureSet='genre',\n",
    "                 modelName='genre')\n",
    "\n",
    "trainLog = trainResponse.trainingLogs[0]\n",
    "\n",
    "print()\n",
    "print(\"Impact of each feature on the model\")\n",
    "for ftrId, impact in trainLog.impacts.items():\n",
    "    print(\"{} - {}\".format(client.get_feature_name(config, ftrId), impact))\n",
    "    \n",
    "print(\"Perfect NDCG! {}\".format(trainLog.rounds[-1]))"
   ]
  },
  {
   "cell_type": "markdown",
   "metadata": {},
   "source": [
    "### But this search sucks!\n",
    "Try searches for \"Science Fiction\" and \"Drama\""
   ]
  },
  {
   "cell_type": "code",
   "execution_count": 7,
   "metadata": {},
   "outputs": [
    {
     "name": "stdout",
     "output_type": "stream",
     "text": [
      "{\"size\": 5, \"query\": {\"sltr\": {\"params\": {\"keywords\": \"drama\", \"keywordsList\": [\"drama\"]}, \"model\": \"genre\"}}}\n",
      "{'size': 5, 'query': {'sltr': {'params': {'keywords': 'drama', 'keywordsList': ['drama']}, 'model': 'genre'}}}\n",
      "The Girl from the Marsh Croft \n",
      "5.4329715 \n",
      "1917 \n",
      "[] \n",
      "A 1917 Swedish drama film directed by Victor Sjöström, based on a 1913 novel by Selma Lagerlöf. It was the first in a series of successful Lagerlöf adaptions by Sjöström, made possible by a deal between Lagerlöf and A-B Svenska Biografteatern (later AB Svensk Filmindustri) to adapt at least one Lagerlöf novel each year. Lagerlöf had for many years denied any proposal to let her novels be adapted for film, but after seeing Sjöström's Terje Vigen she finally decided to give her allowance. \n",
      "---------------------------------------\n",
      "Straight Shooting \n",
      "5.4329715 \n",
      "1917 \n",
      "['Western'] \n",
      "Cattleman Flint cuts off farmer Sims' water supply. When Sims' son Ted goes for water, one of Flint's men kills him. Cheyenne is sent to finish off Sims, but finding the family at the newly dug grave, he changes sides. \n",
      "---------------------------------------\n",
      "The Dying Swan \n",
      "5.4329715 \n",
      "1917 \n",
      "[] \n",
      "When Viktor meets Gizella one day beside the lake, he takes an interest in her and begins to call on her regularly. The one passion in the life of Gizella, who is unable to speak, is dancing. When Viktor deceives her and she finds him with another woman, she moves away and begins a career as a ballerina. Later, as she is on tour performing “The Dying Swan”, the artist Glinskiy attends her performance. Glinskiy, whose own obsession is to depict death in his art, becomes fascinated by Gizella, and he is determined to use her as a model for a special project. \n",
      "---------------------------------------\n",
      "The Adventurer \n",
      "5.4329715 \n",
      "1917 \n",
      "['Comedy'] \n",
      "The Little Tramp escapes from prison; saves a girl and her mother from drowning; and creates havoc at a swank party. \n",
      "---------------------------------------\n",
      "Coney Island \n",
      "5.4329715 \n",
      "1917 \n",
      "['Comedy'] \n",
      "Arbuckle escapes the watch of his domineering wife and heads for Coney Island. Keaton arrives that same day with his attractive, and rather easy, girlfriend, who is immediately stolen from him by St. John. \n",
      "---------------------------------------\n"
     ]
    }
   ],
   "source": [
    "from ltr.search import search\n",
    "search(client, keywords=\"drama\", modelName=\"genre\")"
   ]
  },
  {
   "cell_type": "markdown",
   "metadata": {},
   "source": [
    "### Why didn't it work!?!? Training data\n",
    "\n",
    "1. Examine the training data, do we cover every example of a BAD result\n",
    "2. Examine the feature impacts, do any of the features the model uses even USE the keywords?\n",
    "\n",
    "### Ranklib only sees the data you give it, we don't have good enough coverage\n",
    "\n",
    "You need to have feature coverage, especially over negative examples. Most documents in the index are negative! \n",
    "\n",
    "One trick commonly used is to treat other queries positive results as this queries negative results. Indeed what we're missing here are negative examples for \"Science Fiction\" that are not science fiction movies. A glaring omission, we'll handle now... With the `autoNegate` flag, we'll add additional negative examples to the judgment list"
   ]
  },
  {
   "cell_type": "code",
   "execution_count": 8,
   "metadata": {},
   "outputs": [
    {
     "name": "stdout",
     "output_type": "stream",
     "text": [
      "Generating judgments for scifi & drama movies\n",
      "{'query': {'match_all': {}}, 'size': 10000, 'sort': [{'_id': 'asc'}]}\n"
     ]
    },
    {
     "name": "stderr",
     "output_type": "stream",
     "text": [
      "100%|█████████████████████████████████████████████████████████████████████████████████████████████████████████████████████████████████████████| 10000/10000 [00:00<00:00, 487494.36it/s]\n"
     ]
    },
    {
     "name": "stdout",
     "output_type": "stream",
     "text": [
      "Recognizing 2 queries\n",
      "/var/folders/33/jx0mw87156q2hmtrr_r82s7r0000gs/T/RankyMcRankFace.jar already exists\n",
      "Running java -jar /var/folders/33/jx0mw87156q2hmtrr_r82s7r0000gs/T/RankyMcRankFace.jar -ranker 6 -shrinkage 0.1 -metric2t NDCG@10 -tree 50 -bag 1 -leaf 10 -frate 1.0 -srate 1.0 -train /var/folders/33/jx0mw87156q2hmtrr_r82s7r0000gs/T/training.txt -save data/genre_model.txt \n",
      "Delete model genre: 200\n",
      "Created Model genre [Status: 201]\n",
      "Model saved\n",
      "\n",
      "Impact of each feature on the model\n",
      "is_genre_match - 178579056.081049\n",
      "release_year - 107974596.42232133\n",
      "is_drama - 14215772.365316376\n",
      "is_sci_fi - 7654167.392121586\n",
      "NDCG 1.0\n"
     ]
    }
   ],
   "source": [
    "from ltr import date_genre_judgments\n",
    "date_genre_judgments.synthesize(client,\n",
    "                                judgmentsOutFile='data/genre_by_date_judgments.txt',\n",
    "                                autoNegate=True)\n",
    "\n",
    "from ltr.log import FeatureLogger\n",
    "from ltr.judgments import judgments_open\n",
    "from itertools import groupby\n",
    "\n",
    "ftr_logger=FeatureLogger(client, index='tmdb', feature_set='genre')\n",
    "with judgments_open('data/genre_by_date_judgments.txt') as judgment_list:\n",
    "    for qid, query_judgments in groupby(judgment_list, key=lambda j: j.qid):\n",
    "        ftr_logger.log_for_qid(judgments=query_judgments, \n",
    "                               qid=qid,\n",
    "                               keywords=judgment_list.keywords(qid))\n",
    "        \n",
    "        \n",
    "from ltr.ranklib import train\n",
    "trainResponse = train(client,\n",
    "                 training_set=ftr_logger.logged,\n",
    "                 metric2t='NDCG@10',\n",
    "                 index='tmdb',\n",
    "                 featureSet='genre',\n",
    "                 modelName='genre')\n",
    "\n",
    "trainLog = trainResponse.trainingLogs[0]\n",
    "\n",
    "print()\n",
    "print(\"Impact of each feature on the model\")\n",
    "for ftrId, impact in trainLog.impacts.items():\n",
    "    print(\"{} - {}\".format(client.get_feature_name(config, ftrId), impact))\n",
    "    \n",
    "print(\"NDCG {}\".format(trainLog.rounds[-1]))"
   ]
  },
  {
   "cell_type": "markdown",
   "metadata": {},
   "source": [
    "### Now try those queries...\n",
    "\n",
    "Replace keywords below with 'science fiction' or 'drama' and see how it works"
   ]
  },
  {
   "cell_type": "code",
   "execution_count": 9,
   "metadata": {},
   "outputs": [
    {
     "name": "stdout",
     "output_type": "stream",
     "text": [
      "{\"size\": 5, \"query\": {\"sltr\": {\"params\": {\"keywords\": \"drama\", \"keywordsList\": [\"drama\"]}, \"model\": \"genre\"}}}\n",
      "{'size': 5, 'query': {'sltr': {'params': {'keywords': 'drama', 'keywordsList': ['drama']}, 'model': 'genre'}}}\n",
      "A Man There Was \n",
      "3.5908291 \n",
      "1917 \n",
      "['Drama'] \n",
      "Terje Vigen, a sailor, suffers the loss of his family through the cruelty of another man. Years later, when his enemy's family finds itself dependent on Terje's benevolence, Terje must decide whether to avenge himself. \n",
      "---------------------------------------\n",
      "The Immigrant \n",
      "3.5908291 \n",
      "1917 \n",
      "['Comedy', 'Drama'] \n",
      "Charlie is an immigrant who endures a challenging voyage and gets into trouble as soon as he arrives in America. \n",
      "---------------------------------------\n",
      "Tillie's Punctured Romance \n",
      "3.5895667 \n",
      "1914 \n",
      "['Comedy', 'Drama', 'Romance'] \n",
      "Chaplin plays a womanizing city man who meets Tillie (Dressler) in the country after a fight with his girlfriend (Normand). When he sees that Tillie's father has a very large bankroll for his workers, he persuades her to elope with him. In the city, he meets the woman he was seeing already, and tries to work around the complication to steal Tillie's money. \n",
      "---------------------------------------\n",
      "The Birth of a Nation \n",
      "3.5895667 \n",
      "1915 \n",
      "['War', 'Drama', 'History', 'Romance'] \n",
      "The Birth of A Nation is a silent film from 1915 and the highest grossing silent film in film history. The film tells a romance story during the American civil war. D.W. Griffith invested heavily in its high production values, pioneering many new camera effects. The Birth of a Nation was strongly protested for its negative portrayal of newly freed slaves (mostly white actors in blackface), which went on to create and propagate negative images of blacks of the early 20th century in the United States. The film was used as a recruiting propaganda by the KKK until the 1940s. \n",
      "---------------------------------------\n",
      "Blacksmith Scene \n",
      "3.5895667 \n",
      "1893 \n",
      "['Drama'] \n",
      "Three men hammer on an anvil and pass a bottle of beer around. Notable for being the first film in which a scene is being acted out. \n",
      "---------------------------------------\n"
     ]
    }
   ],
   "source": [
    "from ltr.search import search\n",
    "search(client, keywords=\"drama\", modelName=\"genre\")"
   ]
  },
  {
   "cell_type": "code",
   "execution_count": 10,
   "metadata": {},
   "outputs": [
    {
     "name": "stdout",
     "output_type": "stream",
     "text": [
      "{\"size\": 5, \"query\": {\"sltr\": {\"params\": {\"keywords\": \"science fiction\", \"keywordsList\": [\"science fiction\"]}, \"model\": \"genre\"}}}\n",
      "{'size': 5, 'query': {'sltr': {'params': {'keywords': 'science fiction', 'keywordsList': ['science fiction']}, 'model': 'genre'}}}\n",
      "Dr. Jekyll and Mr. Hyde \n",
      "2.9053097 \n",
      "1920 \n",
      "['Drama', 'Horror', 'Science Fiction'] \n",
      "Dr. Jekyll and Mr. Hyde is a 1920 horror silent film based upon Robert Louis Stevenson's novella The Strange Case of Dr Jekyll and Mr Hyde and starring actor John Barrymore. \n",
      "---------------------------------------\n",
      "Guardians of the Galaxy Vol. 2 \n",
      "2.4134026 \n",
      "2017 \n",
      "['Action', 'Adventure', 'Comedy', 'Science Fiction'] \n",
      "The Guardians must fight to keep their newfound family together as they unravel the mysteries of Peter Quill's true parentage. \n",
      "---------------------------------------\n",
      "Monster Trucks \n",
      "2.4134026 \n",
      "2016 \n",
      "['Action', 'Comedy', 'Science Fiction'] \n",
      "Looking for any way to get away from the life and town he was born into, Tripp, a high school senior, builds a Monster Truck from bits and pieces of scrapped cars. After an accident at a nearby oil-drilling site displaces a strange and subterranean creature with a taste and a talent for speed, Tripp may have just found the key to getting out of town and a most unlikely friend. \n",
      "---------------------------------------\n",
      "ARQ \n",
      "2.4134026 \n",
      "2016 \n",
      "['Science Fiction', 'Thriller'] \n",
      "Two old friends living in a dystopic future become trapped in a mysterious time loop — one that may have something to do with an ongoing battle between an omnipotent corporation and a ragtag band of rebels. \n",
      "---------------------------------------\n",
      "Resident Evil: The Final Chapter \n",
      "2.4134026 \n",
      "2016 \n",
      "['Action', 'Horror', 'Science Fiction'] \n",
      "Picking up immediately after the events in Resident Evil: Retribution, Alice (Milla Jovovich) is the only survivor of what was meant to be humanity's final stand against the undead. Now, she must return to where the nightmare began - The Hive in Raccoon City, where the Umbrella Corporation is gathering its forces for a final strike against the only remaining survivors of the apocalypse. \n",
      "---------------------------------------\n"
     ]
    }
   ],
   "source": [
    "from ltr.search import search\n",
    "search(client, keywords=\"science fiction\", modelName=\"genre\")"
   ]
  },
  {
   "cell_type": "markdown",
   "metadata": {},
   "source": [
    "### The next problem\n",
    "\n",
    "- Overfit to these two examples\n",
    "- We need many more queries, covering more use cases"
   ]
  },
  {
   "cell_type": "code",
   "execution_count": null,
   "metadata": {},
   "outputs": [],
   "source": []
  }
 ],
 "metadata": {
  "kernelspec": {
   "display_name": "Python 3 (ipykernel)",
   "language": "python",
   "name": "python3"
  },
  "language_info": {
   "codemirror_mode": {
    "name": "ipython",
    "version": 3
   },
   "file_extension": ".py",
   "mimetype": "text/x-python",
   "name": "python",
   "nbconvert_exporter": "python",
   "pygments_lexer": "ipython3",
   "version": "3.10.5"
  }
 },
 "nbformat": 4,
 "nbformat_minor": 2
}
