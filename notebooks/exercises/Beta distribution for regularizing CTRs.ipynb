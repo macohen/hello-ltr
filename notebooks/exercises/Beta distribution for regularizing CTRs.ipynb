{
 "cells": [
  {
   "cell_type": "markdown",
   "metadata": {},
   "source": [
    "## Beta distributions for CTR regularization\n",
    "\n"
   ]
  },
  {
   "cell_type": "code",
   "execution_count": 1,
   "metadata": {},
   "outputs": [],
   "source": [
    "import pandas as pd\n",
    "import numpy as np\n",
    "import plotnine as p9\n",
    "import statistics as stats"
   ]
  },
  {
   "cell_type": "markdown",
   "metadata": {},
   "source": [
    "### Some example data\n",
    "\n",
    "This data has impressions and clicks, which we will convert to `ctr`."
   ]
  },
  {
   "cell_type": "code",
   "execution_count": 2,
   "metadata": {},
   "outputs": [
    {
     "data": {
      "text/html": [
       "<div>\n",
       "<style scoped>\n",
       "    .dataframe tbody tr th:only-of-type {\n",
       "        vertical-align: middle;\n",
       "    }\n",
       "\n",
       "    .dataframe tbody tr th {\n",
       "        vertical-align: top;\n",
       "    }\n",
       "\n",
       "    .dataframe thead th {\n",
       "        text-align: right;\n",
       "    }\n",
       "</style>\n",
       "<table border=\"1\" class=\"dataframe\">\n",
       "  <thead>\n",
       "    <tr style=\"text-align: right;\">\n",
       "      <th></th>\n",
       "      <th>resource_id</th>\n",
       "      <th>term</th>\n",
       "      <th>impressions</th>\n",
       "      <th>downloads</th>\n",
       "    </tr>\n",
       "  </thead>\n",
       "  <tbody>\n",
       "    <tr>\n",
       "      <th>0</th>\n",
       "      <td>40</td>\n",
       "      <td>background</td>\n",
       "      <td>3</td>\n",
       "      <td>1</td>\n",
       "    </tr>\n",
       "    <tr>\n",
       "      <th>1</th>\n",
       "      <td>40</td>\n",
       "      <td>glass</td>\n",
       "      <td>7</td>\n",
       "      <td>1</td>\n",
       "    </tr>\n",
       "    <tr>\n",
       "      <th>2</th>\n",
       "      <td>40</td>\n",
       "      <td>guitar</td>\n",
       "      <td>8</td>\n",
       "      <td>1</td>\n",
       "    </tr>\n",
       "    <tr>\n",
       "      <th>3</th>\n",
       "      <td>40</td>\n",
       "      <td>metal texture</td>\n",
       "      <td>9</td>\n",
       "      <td>1</td>\n",
       "    </tr>\n",
       "    <tr>\n",
       "      <th>4</th>\n",
       "      <td>40</td>\n",
       "      <td>patterns</td>\n",
       "      <td>9</td>\n",
       "      <td>1</td>\n",
       "    </tr>\n",
       "    <tr>\n",
       "      <th>...</th>\n",
       "      <td>...</td>\n",
       "      <td>...</td>\n",
       "      <td>...</td>\n",
       "      <td>...</td>\n",
       "    </tr>\n",
       "    <tr>\n",
       "      <th>1048570</th>\n",
       "      <td>237224</td>\n",
       "      <td>pattern background</td>\n",
       "      <td>4</td>\n",
       "      <td>1</td>\n",
       "    </tr>\n",
       "    <tr>\n",
       "      <th>1048571</th>\n",
       "      <td>237224</td>\n",
       "      <td>patterns</td>\n",
       "      <td>3</td>\n",
       "      <td>1</td>\n",
       "    </tr>\n",
       "    <tr>\n",
       "      <th>1048572</th>\n",
       "      <td>237224</td>\n",
       "      <td>school</td>\n",
       "      <td>3</td>\n",
       "      <td>1</td>\n",
       "    </tr>\n",
       "    <tr>\n",
       "      <th>1048573</th>\n",
       "      <td>237224</td>\n",
       "      <td>scribble</td>\n",
       "      <td>10</td>\n",
       "      <td>1</td>\n",
       "    </tr>\n",
       "    <tr>\n",
       "      <th>1048574</th>\n",
       "      <td>237224</td>\n",
       "      <td>stripe</td>\n",
       "      <td>4</td>\n",
       "      <td>1</td>\n",
       "    </tr>\n",
       "  </tbody>\n",
       "</table>\n",
       "<p>1048575 rows × 4 columns</p>\n",
       "</div>"
      ],
      "text/plain": [
       "         resource_id                term  impressions  downloads\n",
       "0                 40          background            3          1\n",
       "1                 40               glass            7          1\n",
       "2                 40              guitar            8          1\n",
       "3                 40       metal texture            9          1\n",
       "4                 40            patterns            9          1\n",
       "...              ...                 ...          ...        ...\n",
       "1048570       237224  pattern background            4          1\n",
       "1048571       237224            patterns            3          1\n",
       "1048572       237224              school            3          1\n",
       "1048573       237224            scribble           10          1\n",
       "1048574       237224              stripe            4          1\n",
       "\n",
       "[1048575 rows x 4 columns]"
      ]
     },
     "execution_count": 2,
     "metadata": {},
     "output_type": "execute_result"
    }
   ],
   "source": [
    "# read-in the downloaded data\n",
    "df = pd.read_csv(\"click_log.csv\")\n",
    "df"
   ]
  },
  {
   "cell_type": "code",
   "execution_count": null,
   "metadata": {},
   "outputs": [],
   "source": [
    "# create a new column for CTR\n",
    "df['ctr'] = df['___'] / df['____']"
   ]
  },
  {
   "cell_type": "code",
   "execution_count": null,
   "metadata": {},
   "outputs": [],
   "source": [
    "# calculate the average CTR as a variable\n",
    "mean_ctr = stats._____(df['____'])"
   ]
  },
  {
   "cell_type": "code",
   "execution_count": null,
   "metadata": {},
   "outputs": [],
   "source": [
    "# calculate the variance CTR\n",
    "var_ctr = stats._____(df['____'])"
   ]
  },
  {
   "cell_type": "code",
   "execution_count": null,
   "metadata": {},
   "outputs": [],
   "source": [
    "# calculate sum(alpha, beta)\n",
    "alpha_beta = mean_ctr * (1 - mean_ctr)  / var_ctr - 1\n",
    "alpha_beta"
   ]
  },
  {
   "cell_type": "code",
   "execution_count": null,
   "metadata": {},
   "outputs": [],
   "source": [
    "# calculate alpha\n",
    "alpha = mean_ctr * alpha_beta\n",
    "alpha"
   ]
  },
  {
   "cell_type": "code",
   "execution_count": null,
   "metadata": {},
   "outputs": [],
   "source": [
    "# calculate beta\n",
    "beta = (1-mean_ctr) * alpha_beta\n",
    "beta"
   ]
  },
  {
   "cell_type": "code",
   "execution_count": null,
   "metadata": {},
   "outputs": [],
   "source": [
    "# calulate expected CTR\n",
    "expected_ctr = alpha / (alpha + beta)\n",
    "expected_ctr"
   ]
  },
  {
   "cell_type": "markdown",
   "metadata": {},
   "source": [
    "### Focus on the query 'duck'\n",
    "\n",
    "To show how this can adjust our CTR metric let's look at for just a single query and handful of documents. You should notice that the adjusted values are all closer to the global average that the were as raw CTR values. The magnitude of this shift is based on the number of observations\n",
    "\n",
    "The concept is shrinking individual resource CTRs towards to the global average CTR. The less data we have on a given resource the more we trust the global average. The more data we have for a resource the more we trust it.\n",
    "\n",
    "This process gives a robust estimates when we only have a few observations, which is often the case for search.\n"
   ]
  },
  {
   "cell_type": "code",
   "execution_count": null,
   "metadata": {},
   "outputs": [],
   "source": [
    "ducks = df.loc[df['term'] == 'duck']\n",
    "ducks = ducks.head(100)\n",
    "ducks"
   ]
  },
  {
   "cell_type": "code",
   "execution_count": null,
   "metadata": {},
   "outputs": [],
   "source": [
    "# caculate adjusted CTR\n",
    "ducks['adjusted_ctr'] = (alpha + ducks['clicks']) / (alpha + beta + ducks['impressions'])\n",
    "ducks"
   ]
  },
  {
   "cell_type": "code",
   "execution_count": null,
   "metadata": {},
   "outputs": [],
   "source": [
    "# visualize it to see the shift\n",
    "\n",
    "ducks_long = pd.melt(ducks[['resource_id', 'ctr', 'adjusted_ctr', 'impressions']], id_vars=['resource_id', 'impressions'], value_vars=['ctr', 'adjusted_ctr'])\n",
    "\n",
    "{\n",
    "    p9.ggplot(ducks_long, p9.aes('value', 'resource_id', color = 'variable', size = 'impressions')) +\n",
    "    p9.geom_vline(xintercept = expected_ctr, linetype='dashed') +\n",
    "    p9.geom_point(alpha = .5) +\n",
    "    p9.scale_x_log10()\n",
    "}"
   ]
  },
  {
   "cell_type": "markdown",
   "metadata": {},
   "source": [
    "### A small salient example of shrinkage rate\n",
    "\n",
    "See this at query scale can be over-whelming. This sections is about seeing what happens with only a few data points. You are encouraged to change the clicks and impressions values."
   ]
  },
  {
   "cell_type": "code",
   "execution_count": null,
   "metadata": {},
   "outputs": [],
   "source": [
    "df2 = pd.DataFrame(\n",
    "    data = {\n",
    "        'id': [1,2,3],\n",
    "        'clicks': [1, 1, 1],\n",
    "        'impressions': [2, 9, 99]\n",
    "    }\n",
    ")"
   ]
  },
  {
   "cell_type": "code",
   "execution_count": null,
   "metadata": {},
   "outputs": [],
   "source": [
    "df2['ctr_raw'] = ____"
   ]
  },
  {
   "cell_type": "code",
   "execution_count": null,
   "metadata": {},
   "outputs": [],
   "source": [
    "df2['ctr_adjusted'] = ____"
   ]
  },
  {
   "cell_type": "code",
   "execution_count": null,
   "metadata": {},
   "outputs": [],
   "source": [
    "df2 = pd.melt(df2[['id', 'ctr_raw', 'ctr_adjusted']], id_vars='id', value_vars=['ctr_raw', 'ctr_adjusted'])"
   ]
  },
  {
   "cell_type": "code",
   "execution_count": null,
   "metadata": {},
   "outputs": [],
   "source": [
    "df2"
   ]
  },
  {
   "cell_type": "code",
   "execution_count": null,
   "metadata": {},
   "outputs": [],
   "source": [
    "{\n",
    "    p9.ggplot(df2, p9.aes(_____, _____ color = 'variable')) +\n",
    "    p9.geom_vline(xintercept = _______, linetype='dashed') + # global expected CTR\n",
    "    p9.geom_point() +\n",
    "    p9.scale_x_log10()\n",
    "}"
   ]
  }
 ],
 "metadata": {
  "kernelspec": {
   "display_name": "Python 3 (ipykernel)",
   "language": "python",
   "name": "python3"
  },
  "language_info": {
   "codemirror_mode": {
    "name": "ipython",
    "version": 3
   },
   "file_extension": ".py",
   "mimetype": "text/x-python",
   "name": "python",
   "nbconvert_exporter": "python",
   "pygments_lexer": "ipython3",
   "version": "3.9.9"
  }
 },
 "nbformat": 4,
 "nbformat_minor": 2
}
