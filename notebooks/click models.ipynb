{
 "cells": [
  {
   "cell_type": "code",
   "execution_count": 1,
   "metadata": {},
   "outputs": [],
   "source": [
    "from ltr.clickmodels.session import build\n",
    "\n",
    "# Sessions for search queries \"rambo\" and \"star trek\"\n",
    "sessions = build([\n",
    "      ('rambo',     ((1, True), (2, False), (3, True), (0, False))),\n",
    "      ('star trek', ((5, False), (2, True), (3, True), (0, False))),\n",
    "      ('rambo',     ((1, False), (2, False), (3, True), (0, False))),\n",
    "      ('star trek', ((1, False), (2, False), (3, False), (9, True))),\n",
    "      ('rambo',     ((9, False), (2, False), (1, True), (0, True))),\n",
    "      ('star trek', ((6, True), (2, False), (3, True), (1, False))),\n",
    "      ('rambo',     ((7, False), (4, True), (1, False), (3, False))),\n",
    "      ('star trek', ((8, True), (2, False), (3, True), (1, False))),\n",
    "      ('rambo',     ((1, False), (4, True), (2, False), (3, False))),\n",
    "      ('star trek', ((7, True), (4, False), (5, True), (1, True)))\n",
    "    ])"
   ]
  },
  {
   "cell_type": "code",
   "execution_count": 2,
   "metadata": {},
   "outputs": [],
   "source": [
    "def by_query(judgment_dict):\n",
    "    from collections import defaultdict\n",
    "    by_query_ranked = defaultdict(list)\n",
    "    \n",
    "    for (query, doc), score in judgment_dict.items():\n",
    "        by_query_ranked[query].append((doc,score))\n",
    "        \n",
    "    for query, items in by_query_ranked.items():\n",
    "        items.sort(key=lambda score_doc: score_doc[1], reverse=True)\n",
    "        \n",
    "    return by_query_ranked\n",
    "\n",
    "def just_doc_ids(docs):\n",
    "    return [doc[0] for doc in docs]"
   ]
  },
  {
   "cell_type": "markdown",
   "metadata": {},
   "source": [
    "# COEC \n",
    "(Clicks Over Expected Clicks)\n",
    "\n",
    "Clicks relative to CTR at that position. > 1 means above average, < 1 means below average"
   ]
  },
  {
   "cell_type": "code",
   "execution_count": 3,
   "metadata": {},
   "outputs": [],
   "source": [
    "from ltr.clickmodels.coec import coec\n",
    "\n",
    "ctrs_by_rank = [0.15,0.15,0.15,0.03]\n",
    "\n",
    "model = coec(ctrs_by_rank, sessions)\n",
    "coec_judgments = by_query(model.coecs)"
   ]
  },
  {
   "cell_type": "code",
   "execution_count": 4,
   "metadata": {},
   "outputs": [
    {
     "data": {
      "text/plain": [
       "defaultdict(list,\n",
       "            {'rambo': [(0, 11.11111111111111),\n",
       "              (4, 6.666666666666667),\n",
       "              (3, 5.555555555555555),\n",
       "              (1, 2.6666666666666665),\n",
       "              (2, 0.0),\n",
       "              (9, 0.0),\n",
       "              (7, 0.0)],\n",
       "             'star trek': [(9, 33.333333333333336),\n",
       "              (6, 6.666666666666667),\n",
       "              (8, 6.666666666666667),\n",
       "              (7, 6.666666666666667),\n",
       "              (3, 5.0),\n",
       "              (1, 4.166666666666667),\n",
       "              (5, 3.3333333333333335),\n",
       "              (2, 1.6666666666666667),\n",
       "              (0, 0.0),\n",
       "              (4, 0.0)]})"
      ]
     },
     "execution_count": 4,
     "metadata": {},
     "output_type": "execute_result"
    }
   ],
   "source": [
    "coec_judgments"
   ]
  },
  {
   "cell_type": "markdown",
   "metadata": {},
   "source": [
    "# PBM\n",
    "\n",
    "(Position-Based model)\n",
    "\n",
    "We learn probability of a rank being examined and the attractiveness of a query-doc pair"
   ]
  },
  {
   "cell_type": "code",
   "execution_count": 5,
   "metadata": {},
   "outputs": [],
   "source": [
    "from ltr.clickmodels.pbm import position_based_model\n",
    "model = position_based_model(sessions, rounds=50)\n",
    "pbm_judgments = by_query(model.attracts)"
   ]
  },
  {
   "cell_type": "code",
   "execution_count": 6,
   "metadata": {},
   "outputs": [
    {
     "data": {
      "text/plain": [
       "[0.9987182876053634,\n",
       " 0.9999889839385798,\n",
       " 0.9999999990640687,\n",
       " 0.44523038207622834]"
      ]
     },
     "execution_count": 6,
     "metadata": {},
     "output_type": "execute_result"
    }
   ],
   "source": [
    "model.ranks"
   ]
  },
  {
   "cell_type": "code",
   "execution_count": 7,
   "metadata": {},
   "outputs": [
    {
     "data": {
      "text/plain": [
       "[(4, 1.0),\n",
       " (3, 0.9989838560294817),\n",
       " (0, 0.747358098424573),\n",
       " (1, 0.4003830084292817),\n",
       " (9, 4.113007892053103e-81),\n",
       " (7, 4.113007892053103e-81),\n",
       " (2, 4.076400940523653e-131)]"
      ]
     },
     "execution_count": 7,
     "metadata": {},
     "output_type": "execute_result"
    }
   ],
   "source": [
    "pbm_judgments['rambo']"
   ]
  },
  {
   "cell_type": "markdown",
   "metadata": {},
   "source": [
    "### Compare"
   ]
  },
  {
   "cell_type": "code",
   "execution_count": 8,
   "metadata": {},
   "outputs": [
    {
     "data": {
      "text/plain": [
       "[0, 4, 3, 1, 2, 9, 7]"
      ]
     },
     "execution_count": 8,
     "metadata": {},
     "output_type": "execute_result"
    }
   ],
   "source": [
    "from ltr.helpers.tau import tau\n",
    "from ltr.helpers.tau import avg_tau\n",
    "\n",
    "rambo1 = just_doc_ids(coec_judgments['rambo'])\n",
    "rambo1\n"
   ]
  },
  {
   "cell_type": "code",
   "execution_count": 9,
   "metadata": {},
   "outputs": [
    {
     "data": {
      "text/plain": [
       "[4, 3, 0, 1, 9, 7, 2]"
      ]
     },
     "execution_count": 9,
     "metadata": {},
     "output_type": "execute_result"
    }
   ],
   "source": [
    "rambo2 = just_doc_ids(pbm_judgments['rambo'])\n",
    "rambo2\n"
   ]
  },
  {
   "cell_type": "code",
   "execution_count": 10,
   "metadata": {},
   "outputs": [
    {
     "data": {
      "text/plain": [
       "-0.21632653061224488"
      ]
     },
     "execution_count": 10,
     "metadata": {},
     "output_type": "execute_result"
    }
   ],
   "source": [
    "avg_tau(rambo1, rambo2, at=7)"
   ]
  },
  {
   "cell_type": "code",
   "execution_count": 11,
   "metadata": {},
   "outputs": [
    {
     "data": {
      "text/plain": [
       "[9, 6, 8, 7, 3, 1, 5, 2, 0, 4]"
      ]
     },
     "execution_count": 11,
     "metadata": {},
     "output_type": "execute_result"
    }
   ],
   "source": [
    "star_trek1 = just_doc_ids(coec_judgments['star trek'])\n",
    "star_trek1"
   ]
  },
  {
   "cell_type": "code",
   "execution_count": 12,
   "metadata": {},
   "outputs": [
    {
     "data": {
      "text/plain": [
       "[9, 6, 8, 7, 3, 5, 1, 2, 0, 4]"
      ]
     },
     "execution_count": 12,
     "metadata": {},
     "output_type": "execute_result"
    }
   ],
   "source": [
    "star_trek2 = just_doc_ids(pbm_judgments['star trek'])\n",
    "star_trek2"
   ]
  },
  {
   "cell_type": "code",
   "execution_count": 13,
   "metadata": {},
   "outputs": [
    {
     "data": {
      "text/plain": [
       "0.9066666666666666"
      ]
     },
     "execution_count": 13,
     "metadata": {},
     "output_type": "execute_result"
    }
   ],
   "source": [
    "avg_tau(star_trek1, star_trek2, at=10)"
   ]
  },
  {
   "cell_type": "markdown",
   "metadata": {},
   "source": [
    "# UBM\n",
    "\n",
    "(User Browse Model)\n",
    "\n",
    "Variant of PBM model that computes examination as a function of this position and the last clicked position."
   ]
  },
  {
   "cell_type": "code",
   "execution_count": 14,
   "metadata": {},
   "outputs": [
    {
     "data": {
      "text/plain": [
       "defaultdict(<function ltr.clickmodels.ubm.Model.__init__.<locals>.<lambda>()>,\n",
       "            {('rambo', 2): 0.0655509140827497,\n",
       "             ('star trek', 5): 0.0,\n",
       "             ('rambo', 1): 1.0,\n",
       "             ('star trek', 2): 1.0})"
      ]
     },
     "execution_count": 14,
     "metadata": {},
     "output_type": "execute_result"
    }
   ],
   "source": [
    "from ltr.clickmodels.ubm import user_browse_model\n",
    "\n",
    "# Sessions for search queries \"rambo\" and \"star trek\"\n",
    "sessions2 = build([\n",
    "      ('rambo',     ((1, True), (2, False))),\n",
    "      ('star trek', ((5, False), (2, True))),\n",
    "      ('rambo',     ((1, True), (2, False))),\n",
    "      ('star trek', ((5, False), (2, True)))\n",
    "    \n",
    "    ])\n",
    "\n",
    "model = user_browse_model(sessions2, rounds=50)\n",
    "model.attracts"
   ]
  },
  {
   "cell_type": "code",
   "execution_count": 15,
   "metadata": {},
   "outputs": [
    {
     "data": {
      "text/plain": [
       "defaultdict(<function ltr.clickmodels.ubm.Model.__init__.<locals>.<lambda>()>,\n",
       "            {(0, 1): 0.0025465408240250265,\n",
       "             (-1, 0): 0.9999999999999993,\n",
       "             (-1, 1): 1.0})"
      ]
     },
     "execution_count": 15,
     "metadata": {},
     "output_type": "execute_result"
    }
   ],
   "source": [
    "model.ranks"
   ]
  },
  {
   "cell_type": "markdown",
   "metadata": {},
   "source": [
    "# Cascade Model\n",
    "\n",
    "A variant of the model that computes relevance based on clicks over times the article appeared at or before the first click"
   ]
  },
  {
   "cell_type": "code",
   "execution_count": 16,
   "metadata": {},
   "outputs": [],
   "source": [
    "from ltr.clickmodels.cascade import cascade_model\n",
    "model = cascade_model(sessions)"
   ]
  },
  {
   "cell_type": "code",
   "execution_count": 17,
   "metadata": {},
   "outputs": [
    {
     "data": {
      "text/plain": [
       "defaultdict(<function ltr.clickmodels.cascade.Model.__init__.<locals>.<lambda>()>,\n",
       "            {('rambo', 1): 0.5,\n",
       "             ('star trek', 5): 0.0,\n",
       "             ('star trek', 2): 0.5,\n",
       "             ('rambo', 2): 0.0,\n",
       "             ('rambo', 3): 1.0,\n",
       "             ('star trek', 1): 0.0,\n",
       "             ('star trek', 3): 0.0,\n",
       "             ('star trek', 9): 1.0,\n",
       "             ('rambo', 9): 0.0,\n",
       "             ('star trek', 6): 1.0,\n",
       "             ('rambo', 7): 0.0,\n",
       "             ('rambo', 4): 1.0,\n",
       "             ('star trek', 8): 1.0,\n",
       "             ('star trek', 7): 1.0})"
      ]
     },
     "execution_count": 17,
     "metadata": {},
     "output_type": "execute_result"
    }
   ],
   "source": [
    "model.attracts"
   ]
  },
  {
   "cell_type": "markdown",
   "metadata": {},
   "source": [
    "# SDBN\n",
    "\n",
    "Simplified version of the Dynamic Bayesian Network, that computes satisfaction and attractiveness. Satisfaction is the times this item was clicked relative to all sessions that item was clicked. Attractiveness how often this item was clicked relative to all sessions with that query/doc"
   ]
  },
  {
   "cell_type": "code",
   "execution_count": 18,
   "metadata": {},
   "outputs": [],
   "source": [
    "from ltr.clickmodels.sdbn import sdbn\n",
    "model = sdbn(sessions)"
   ]
  },
  {
   "cell_type": "code",
   "execution_count": 19,
   "metadata": {},
   "outputs": [
    {
     "data": {
      "text/plain": [
       "defaultdict(<function ltr.clickmodels.sdbn.Model.__init__.<locals>.<lambda>()>,\n",
       "            {('rambo', 3): 1.0,\n",
       "             ('rambo', 2): 0.0,\n",
       "             ('rambo', 1): 0.5,\n",
       "             ('star trek', 3): 0.75,\n",
       "             ('star trek', 2): 0.25,\n",
       "             ('star trek', 5): 0.5,\n",
       "             ('star trek', 9): 1.0,\n",
       "             ('star trek', 1): 0.5,\n",
       "             ('rambo', 0): 1.0,\n",
       "             ('rambo', 9): 0.0,\n",
       "             ('star trek', 6): 1.0,\n",
       "             ('rambo', 4): 1.0,\n",
       "             ('rambo', 7): 0.0,\n",
       "             ('star trek', 8): 1.0,\n",
       "             ('star trek', 4): 0.0,\n",
       "             ('star trek', 7): 1.0})"
      ]
     },
     "execution_count": 19,
     "metadata": {},
     "output_type": "execute_result"
    }
   ],
   "source": [
    "model.attracts"
   ]
  },
  {
   "cell_type": "code",
   "execution_count": 20,
   "metadata": {},
   "outputs": [
    {
     "data": {
      "text/plain": [
       "defaultdict(<function ltr.clickmodels.sdbn.Model.__init__.<locals>.<lambda>()>,\n",
       "            {('rambo', 3): 1.0,\n",
       "             ('rambo', 1): 0.0,\n",
       "             ('star trek', 3): 1.0,\n",
       "             ('star trek', 2): 0.0,\n",
       "             ('star trek', 5): 0.0,\n",
       "             ('star trek', 9): 1.0,\n",
       "             ('star trek', 1): 1.0,\n",
       "             ('rambo', 0): 1.0,\n",
       "             ('star trek', 6): 0.0,\n",
       "             ('rambo', 4): 1.0,\n",
       "             ('star trek', 8): 0.0,\n",
       "             ('star trek', 7): 0.0})"
      ]
     },
     "execution_count": 20,
     "metadata": {},
     "output_type": "execute_result"
    }
   ],
   "source": [
    "model.satisfacts"
   ]
  },
  {
   "cell_type": "code",
   "execution_count": null,
   "metadata": {},
   "outputs": [],
   "source": []
  }
 ],
 "metadata": {
  "kernelspec": {
   "display_name": "Python 3 (ipykernel)",
   "language": "python",
   "name": "python3"
  },
  "language_info": {
   "codemirror_mode": {
    "name": "ipython",
    "version": 3
   },
   "file_extension": ".py",
   "mimetype": "text/x-python",
   "name": "python",
   "nbconvert_exporter": "python",
   "pygments_lexer": "ipython3",
   "version": "3.10.5"
  }
 },
 "nbformat": 4,
 "nbformat_minor": 2
}
